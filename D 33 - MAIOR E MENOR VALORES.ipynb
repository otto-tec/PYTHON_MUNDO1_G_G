{
 "cells": [
  {
   "cell_type": "markdown",
   "id": "15458aee",
   "metadata": {},
   "source": [
    "## DESAFIO 33\n",
    "### Faça um programa que leia três números e mostre qual é o maior e qual é o menor."
   ]
  },
  {
   "cell_type": "code",
   "execution_count": 2,
   "id": "e1820520",
   "metadata": {},
   "outputs": [
    {
     "name": "stdout",
     "output_type": "stream",
     "text": [
      "Insira o 1º número: 5\n",
      "Insira o 2º número: 8\n",
      "Insira o 3º número: 3\n",
      "O maior número da lista [5.0, 8.0, 3.0] é o 8.0\n",
      "O menor número da lista [5.0, 8.0, 3.0] é o 3.0\n"
     ]
    }
   ],
   "source": [
    "# Minha programação\n",
    "n1 = float(input('Insira o 1º número: '))\n",
    "n2 = float(input('Insira o 2º número: '))\n",
    "n3 = float(input('Insira o 3º número: '))\n",
    "\n",
    "lista = [n1, n2, n3]\n",
    "\n",
    "print('O maior número da lista {} é o {}'.format(lista, max(lista)))\n",
    "print('O menor número da lista {} é o {}'.format(lista, min(lista)))\n"
   ]
  },
  {
   "cell_type": "markdown",
   "id": "1b260edd",
   "metadata": {},
   "source": [
    "#### A programação que o Gustavo fez é mais trabalhosa. Ele usou vários if e else. Isso possívelmente por não ter dado a aula de listas ainda."
   ]
  },
  {
   "cell_type": "code",
   "execution_count": null,
   "id": "2abe9d8e",
   "metadata": {},
   "outputs": [],
   "source": []
  }
 ],
 "metadata": {
  "kernelspec": {
   "display_name": "Python 3",
   "language": "python",
   "name": "python3"
  },
  "language_info": {
   "codemirror_mode": {
    "name": "ipython",
    "version": 3
   },
   "file_extension": ".py",
   "mimetype": "text/x-python",
   "name": "python",
   "nbconvert_exporter": "python",
   "pygments_lexer": "ipython3",
   "version": "3.8.8"
  }
 },
 "nbformat": 4,
 "nbformat_minor": 5
}
