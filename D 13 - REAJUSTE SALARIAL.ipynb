{
 "cells": [
  {
   "cell_type": "markdown",
   "id": "c8519200",
   "metadata": {},
   "source": [
    "## DESAFIO 13\n",
    "### Faça um algoritmo que leia o salário de um funcionário e mostre seu novo salário com 15% de aumento"
   ]
  },
  {
   "cell_type": "code",
   "execution_count": 3,
   "id": "93847f72",
   "metadata": {},
   "outputs": [
    {
     "name": "stdout",
     "output_type": "stream",
     "text": [
      "Insira o salário: R$1000\n",
      "Insira o aumento: %15\n",
      "O salário do funcionário era R$1000.00 e com o aumento de 15.00% ficou valendo 1150.00\n"
     ]
    }
   ],
   "source": [
    "salario = float(input('Insira o salário: R$'))\n",
    "aumento = float(input('Insira o aumento: %'))\n",
    "sal_fin = (salario / 100) * aumento\n",
    "print('O salário do funcionário era R${:.2f} e com o aumento de {:.2f}% ficou valendo {:.2f}'.format(salario, aumento, salario + sal_fin))"
   ]
  },
  {
   "cell_type": "code",
   "execution_count": null,
   "id": "69e8ea6d",
   "metadata": {},
   "outputs": [],
   "source": []
  }
 ],
 "metadata": {
  "kernelspec": {
   "display_name": "Python 3",
   "language": "python",
   "name": "python3"
  },
  "language_info": {
   "codemirror_mode": {
    "name": "ipython",
    "version": 3
   },
   "file_extension": ".py",
   "mimetype": "text/x-python",
   "name": "python",
   "nbconvert_exporter": "python",
   "pygments_lexer": "ipython3",
   "version": "3.8.8"
  }
 },
 "nbformat": 4,
 "nbformat_minor": 5
}
