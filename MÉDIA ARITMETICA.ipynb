{
 "cells": [
  {
   "cell_type": "markdown",
   "id": "4d8b9667",
   "metadata": {},
   "source": [
    "# DESAFIO 7\n",
    "### Desenvolva um programa que leia as duas notas de um aluno, calcule e mostre a sua média.\n"
   ]
  },
  {
   "cell_type": "code",
   "execution_count": 10,
   "id": "1d10a261",
   "metadata": {},
   "outputs": [
    {
     "name": "stdout",
     "output_type": "stream",
     "text": [
      "Insira a 1° nota: 4.7\n",
      "Insira a 2° nota: 8.3\n",
      "A média entre 4.7 e 8.3 é igual a 6.500\n"
     ]
    }
   ],
   "source": [
    "notaA = float(input('Insira a 1° nota: '))\n",
    "notaB = float(input('Insira a 2° nota: '))\n",
    "média = (notaA + notaB)/2\n",
    "\n",
    "print('A média entre {} e {} é igual a {:.3f}'.format(notaA, notaB, média))"
   ]
  },
  {
   "cell_type": "markdown",
   "id": "f61e2d5c",
   "metadata": {},
   "source": [
    "###  {:.3f} \n",
    "Na parte do print, perceba que dentro das chaves tem esse código acima. Ele diz que terá apenas uma determinada quantidade de números após a vírgula. Neste caso 3 (6.500).\n",
    "  O f significa que é número flutuante (float)"
   ]
  },
  {
   "cell_type": "code",
   "execution_count": null,
   "id": "161b87cb",
   "metadata": {},
   "outputs": [],
   "source": []
  }
 ],
 "metadata": {
  "kernelspec": {
   "display_name": "Python 3",
   "language": "python",
   "name": "python3"
  },
  "language_info": {
   "codemirror_mode": {
    "name": "ipython",
    "version": 3
   },
   "file_extension": ".py",
   "mimetype": "text/x-python",
   "name": "python",
   "nbconvert_exporter": "python",
   "pygments_lexer": "ipython3",
   "version": "3.8.8"
  }
 },
 "nbformat": 4,
 "nbformat_minor": 5
}
