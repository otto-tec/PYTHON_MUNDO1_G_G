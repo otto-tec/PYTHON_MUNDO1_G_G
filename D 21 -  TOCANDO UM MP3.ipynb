{
 "cells": [
  {
   "cell_type": "markdown",
   "id": "37ac11d9",
   "metadata": {},
   "source": [
    "## DESAFIO 21\n",
    "### Faça um programa em Python que abra e reproduza o áudio de um arquivo MP3"
   ]
  },
  {
   "cell_type": "code",
   "execution_count": null,
   "id": "9636c129",
   "metadata": {},
   "outputs": [],
   "source": [
    "import pygame\n",
    "\n",
    "pygame.init()\n",
    "pygame.mixer.music.load('musica2.mp3.mpeg')\n",
    "pygame.mixer.music.play()\n",
    "pygame.event.wait()"
   ]
  },
  {
   "cell_type": "code",
   "execution_count": null,
   "id": "18da001d",
   "metadata": {},
   "outputs": [],
   "source": []
  }
 ],
 "metadata": {
  "kernelspec": {
   "display_name": "Python 3",
   "language": "python",
   "name": "python3"
  },
  "language_info": {
   "codemirror_mode": {
    "name": "ipython",
    "version": 3
   },
   "file_extension": ".py",
   "mimetype": "text/x-python",
   "name": "python",
   "nbconvert_exporter": "python",
   "pygments_lexer": "ipython3",
   "version": "3.8.8"
  }
 },
 "nbformat": 4,
 "nbformat_minor": 5
}
