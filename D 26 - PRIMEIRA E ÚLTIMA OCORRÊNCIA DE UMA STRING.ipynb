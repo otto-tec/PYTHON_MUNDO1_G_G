{
 "cells": [
  {
   "cell_type": "markdown",
   "id": "65d5e52b",
   "metadata": {},
   "source": [
    "## DESAFIO 26\n",
    "### Faça um programa que leia uma frase pelo teclado e mostre:\n",
    "#### Quantas vezes aparece a letra 'A';\n",
    "#### Em que posição ela aparece a primeira vez;\n",
    "#### Em que posição ela aparece a última vez;"
   ]
  },
  {
   "cell_type": "code",
   "execution_count": 15,
   "id": "8a8d9871",
   "metadata": {},
   "outputs": [
    {
     "name": "stdout",
     "output_type": "stream",
     "text": [
      "Insira um nome:     Arara Azul\n",
      "**************************************************\n",
      "No nome descrito acima apareceu a letra A 4 vezes.\n",
      "---------------------------------------------------------------------------\n",
      "No nome descrito acima a 1° vez que aparece a letra A é na posição 1.\n",
      "---------------------------------------------------------------------------\n",
      "No nome descrito acima a última vez que aparece a letra A é na posição 7.\n"
     ]
    }
   ],
   "source": [
    "# Esse é o programa que eu fiz\n",
    "nome = input('Insira um nome: ').strip().upper()\n",
    "nome_num = nome.count('A')\n",
    "letra = 'A'\n",
    "nome_1a = nome.find(letra)\n",
    "nome_U = nome.rfind(letra)\n",
    "\n",
    "print('*'*50)\n",
    "print('No nome descrito acima apareceu a letra A {} vezes.'.format(nome_num))\n",
    "print('-'*75)\n",
    "print('No nome descrito acima a 1° vez que aparece a letra A é na posição {}.'.format(nome_1a + 1))\n",
    "print('-'*75)\n",
    "print('No nome descrito acima a última vez que aparece a letra A é na posição {}.'.format(nome_U + 1))\n"
   ]
  },
  {
   "cell_type": "code",
   "execution_count": 14,
   "id": "0fb548d4",
   "metadata": {},
   "outputs": [
    {
     "name": "stdout",
     "output_type": "stream",
     "text": [
      "Digite uma frase:    Arara Azul\n",
      "A letra A aparece 4 vezes na frase.\n",
      "A primeira letra A apareceu na posição 1\n",
      "A última letra A apareceu na posição 7\n"
     ]
    }
   ],
   "source": [
    "# Esse é o programa que o Gustavo fez\n",
    "\n",
    "frase = input('Digite uma frase: ').upper().strip()\n",
    "print('A letra A aparece {} vezes na frase.'. format(frase.count('A')))\n",
    "print('A primeira letra A apareceu na posição {}'.format(frase.find('A')+1))\n",
    "print('A última letra A apareceu na posição {}'.format(frase.rfind('A')+1))"
   ]
  },
  {
   "cell_type": "markdown",
   "id": "4284c558",
   "metadata": {},
   "source": [
    "#### É possivel perceber algumas semelhanças e diferenças. As semelhanças se trata do uso das ferramentas: upper, strip, count, find, rfind. Foram exatamente iguais, até mesmo o uso de somar + 1.\n",
    "####   Agora  a maior diferença está no fato do Gustavo ter colocado as operações dentro do print, isso economizou várias linhas de código. Ficar atento nessa técnica."
   ]
  },
  {
   "cell_type": "code",
   "execution_count": null,
   "id": "38b8c1b0",
   "metadata": {},
   "outputs": [],
   "source": []
  }
 ],
 "metadata": {
  "kernelspec": {
   "display_name": "Python 3",
   "language": "python",
   "name": "python3"
  },
  "language_info": {
   "codemirror_mode": {
    "name": "ipython",
    "version": 3
   },
   "file_extension": ".py",
   "mimetype": "text/x-python",
   "name": "python",
   "nbconvert_exporter": "python",
   "pygments_lexer": "ipython3",
   "version": "3.8.8"
  }
 },
 "nbformat": 4,
 "nbformat_minor": 5
}
