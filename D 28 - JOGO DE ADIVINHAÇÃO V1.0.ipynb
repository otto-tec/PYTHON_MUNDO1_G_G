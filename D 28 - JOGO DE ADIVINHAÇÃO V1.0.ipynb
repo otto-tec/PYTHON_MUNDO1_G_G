{
 "cells": [
  {
   "cell_type": "markdown",
   "id": "32949574",
   "metadata": {},
   "source": [
    "## DESAFIO 28\n",
    "### Escreva um prgrama que faça o computador 'pensar' em um número inteiro entre 0 e 5 e peça para o usuário tentar descobrir qual foi o número escolhido pelo computador. O programa deverá escrever na tela se o usuário venceu ou perdeu."
   ]
  },
  {
   "cell_type": "code",
   "execution_count": 4,
   "id": "f2e49c6d",
   "metadata": {},
   "outputs": [
    {
     "name": "stdout",
     "output_type": "stream",
     "text": [
      "Escolha um número de 0 a 5: 4\n",
      "=*=*=*=*=*=*=*=*=*=*=*=*=*=*=*=*=*=*=*=*\n",
      "Processando dados...\n",
      "=*=*=*=*=*=*=*=*=*=*=*=*=*=*=*=*=*=*=*=*\n",
      "Não foi dessa vez, o número sorteado foi 2.\n"
     ]
    }
   ],
   "source": [
    "# Programa que eu fiz\n",
    "import random\n",
    "n = int(input('Escolha um número de 0 a 5: '))\n",
    "print('=*'*20)\n",
    "print('Processando dados...')\n",
    "print('=*'*20)\n",
    "\n",
    "ns = random.randint(0, 5)\n",
    "\n",
    "if ns == n:\n",
    "    print('Parabens, o número sorteado foi {}.'.format(ns))\n",
    "else:\n",
    "    print('Não foi dessa vez, o número sorteado foi {}.'.format(ns))\n",
    "\n"
   ]
  },
  {
   "cell_type": "code",
   "execution_count": null,
   "id": "93e1f237",
   "metadata": {},
   "outputs": [],
   "source": []
  }
 ],
 "metadata": {
  "kernelspec": {
   "display_name": "Python 3",
   "language": "python",
   "name": "python3"
  },
  "language_info": {
   "codemirror_mode": {
    "name": "ipython",
    "version": 3
   },
   "file_extension": ".py",
   "mimetype": "text/x-python",
   "name": "python",
   "nbconvert_exporter": "python",
   "pygments_lexer": "ipython3",
   "version": "3.8.8"
  }
 },
 "nbformat": 4,
 "nbformat_minor": 5
}
