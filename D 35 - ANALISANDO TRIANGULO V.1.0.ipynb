{
 "cells": [
  {
   "cell_type": "markdown",
   "id": "7dddfe10",
   "metadata": {},
   "source": [
    "## DESAFIO 35\n",
    "### Desenvolva um programa que leia o comprimento de três retas e diga ao usuário se elas podem ou não formar um triângulo."
   ]
  },
  {
   "cell_type": "code",
   "execution_count": 2,
   "id": "16a2c92a",
   "metadata": {
    "scrolled": true
   },
   "outputs": [
    {
     "name": "stdout",
     "output_type": "stream",
     "text": [
      "Insira o valor da 1° reta: 2\n",
      "Insira o valor da 2° reta: 4\n",
      "Insira o valor da 3° reta: 6\n",
      "Não é um triângulo\n"
     ]
    }
   ],
   "source": [
    "r1 = float(input('Insira o valor da 1° reta: '))\n",
    "r2 = float(input('Insira o valor da 2° reta: '))\n",
    "r3 = float(input('Insira o valor da 3° reta: '))\n",
    "\n",
    "if (r1 + r2 > r3) and (r1 + r3 > r2) and (r2 + r3 > r1):\n",
    "    result = 'É um triângulo'\n",
    "else:\n",
    "    result = 'Não é um triângulo'\n",
    "print(result)"
   ]
  },
  {
   "cell_type": "code",
   "execution_count": null,
   "id": "3b5f1ca8",
   "metadata": {},
   "outputs": [],
   "source": []
  }
 ],
 "metadata": {
  "kernelspec": {
   "display_name": "Python 3",
   "language": "python",
   "name": "python3"
  },
  "language_info": {
   "codemirror_mode": {
    "name": "ipython",
    "version": 3
   },
   "file_extension": ".py",
   "mimetype": "text/x-python",
   "name": "python",
   "nbconvert_exporter": "python",
   "pygments_lexer": "ipython3",
   "version": "3.8.8"
  }
 },
 "nbformat": 4,
 "nbformat_minor": 5
}
