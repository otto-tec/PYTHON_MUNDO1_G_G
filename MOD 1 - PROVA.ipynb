{
 "cells": [
  {
   "cell_type": "markdown",
   "id": "7e0e7a0f",
   "metadata": {},
   "source": [
    "### Q1 \n",
    "#### Dado o seguinte trecho de código:"
   ]
  },
  {
   "cell_type": "code",
   "execution_count": 5,
   "id": "46047bd4",
   "metadata": {
    "scrolled": true
   },
   "outputs": [
    {
     "name": "stdout",
     "output_type": "stream",
     "text": [
      "[1.0, 0.5, 0.3333333333333333]\n",
      "3\n"
     ]
    }
   ],
   "source": [
    "r = []\n",
    "for x in [1,2,3]:\n",
    "    r.append(x**-1)\n",
    "print(r)\n",
    "print(x)"
   ]
  },
  {
   "cell_type": "markdown",
   "id": "0a2a92f6",
   "metadata": {},
   "source": [
    "#### Em Python, marque a list comprehension equivalente ao código acima."
   ]
  },
  {
   "cell_type": "code",
   "execution_count": 4,
   "id": "56c5207a",
   "metadata": {
    "scrolled": true
   },
   "outputs": [
    {
     "name": "stdout",
     "output_type": "stream",
     "text": [
      "[1.0, 0.5, 0.3333333333333333]\n",
      "3\n"
     ]
    }
   ],
   "source": [
    "r = [x**-1 for x in [1,2,3]]\n",
    "print(r)\n",
    "print(x)"
   ]
  },
  {
   "cell_type": "code",
   "execution_count": 6,
   "id": "30075a5d",
   "metadata": {},
   "outputs": [
    {
     "name": "stdout",
     "output_type": "stream",
     "text": [
      "[-1, -2, -3, -4]\n",
      "3\n"
     ]
    }
   ],
   "source": [
    "r = [x^-1 for x in range(4)]\n",
    "print(r)\n",
    "print(x)"
   ]
  },
  {
   "cell_type": "code",
   "execution_count": 7,
   "id": "b5927c2e",
   "metadata": {},
   "outputs": [
    {
     "name": "stdout",
     "output_type": "stream",
     "text": [
      "[1, 3, 3]\n",
      "3\n"
     ]
    }
   ],
   "source": [
    "r = [1|x for x in [1,2,3]]\n",
    "print(r)\n",
    "print(x)"
   ]
  },
  {
   "cell_type": "code",
   "execution_count": 8,
   "id": "aaec0fc9",
   "metadata": {},
   "outputs": [
    {
     "name": "stdout",
     "output_type": "stream",
     "text": [
      "[-1, -1, -1]\n",
      "3\n"
     ]
    }
   ],
   "source": [
    "r = [-1**x for x in [1,2,3]]\n",
    "print(r)\n",
    "print(x)"
   ]
  },
  {
   "cell_type": "markdown",
   "id": "9dca5a12",
   "metadata": {},
   "source": [
    "### Q 2\n",
    "#### Qual o resultado do programa a seguir?"
   ]
  },
  {
   "cell_type": "code",
   "execution_count": 10,
   "id": "c760f39d",
   "metadata": {},
   "outputs": [
    {
     "name": "stdout",
     "output_type": "stream",
     "text": [
      "[0, 2, 4]\n"
     ]
    }
   ],
   "source": [
    "data = [x for x in range(5)]\n",
    "temp = [x for x in range(7) if x in data and x%2==0]\n",
    "print(temp)"
   ]
  },
  {
   "cell_type": "markdown",
   "id": "a0de8a83",
   "metadata": {},
   "source": [
    "### Q3\n",
    "#### Qual é o resultado do programa a seguir?"
   ]
  },
  {
   "cell_type": "code",
   "execution_count": 11,
   "id": "4e2ebe7a",
   "metadata": {},
   "outputs": [
    {
     "name": "stdout",
     "output_type": "stream",
     "text": [
      "{0: 0, 7: 0, 1: 1, 8: 1}\n"
     ]
    }
   ],
   "source": [
    "d = {}\n",
    "for x in enumerate(range(2)):\n",
    "    d[x[0]] = x[1]\n",
    "    d[x[1]+7] = x[0]\n",
    "print(d)"
   ]
  },
  {
   "cell_type": "markdown",
   "id": "fa64f2ae",
   "metadata": {},
   "source": [
    "### Q4\n",
    "#### Qual é o resultado do programa a seguir?"
   ]
  },
  {
   "cell_type": "code",
   "execution_count": 12,
   "id": "f5242bbd",
   "metadata": {},
   "outputs": [
    {
     "name": "stdout",
     "output_type": "stream",
     "text": [
      "3\n"
     ]
    }
   ],
   "source": [
    "d = {1 : 1, 2 :'2', '1':2, '2':3}\n",
    "d['1'] = 2\n",
    "print(d[d[d[str(d[1])]]])"
   ]
  },
  {
   "cell_type": "markdown",
   "id": "29a62a07",
   "metadata": {},
   "source": [
    "### Q5\n",
    "#### Qual é o resultado do programa a seguir?"
   ]
  },
  {
   "cell_type": "code",
   "execution_count": 13,
   "id": "77288d4e",
   "metadata": {},
   "outputs": [
    {
     "name": "stdout",
     "output_type": "stream",
     "text": [
      "Ohwv#frgh\n"
     ]
    }
   ],
   "source": [
    "line = 'Lets code'\n",
    "value = ''\n",
    "for i in line:\n",
    "    value += chr(ord(i)+3)\n",
    "print(value)"
   ]
  },
  {
   "cell_type": "markdown",
   "id": "953a55f6",
   "metadata": {},
   "source": [
    "### Q6\n",
    "#### Nova Questão"
   ]
  },
  {
   "cell_type": "code",
   "execution_count": 14,
   "id": "c1ca0a4a",
   "metadata": {},
   "outputs": [
    {
     "name": "stdout",
     "output_type": "stream",
     "text": [
      "2.33 abcno\n"
     ]
    }
   ],
   "source": [
    "L1 = [1, 1.33, 'abc', 0, 'no', None, 'j', True]\n",
    "val1, val2 = 0, ''\n",
    "for x in L1:\n",
    "    if(type(x) == int or type(x) == float):\n",
    "        val1 += x\n",
    "    elif(type(x) == str):\n",
    "        val2 += x\n",
    "    else:\n",
    "        break\n",
    "print(val1, val2)"
   ]
  },
  {
   "cell_type": "markdown",
   "id": "d934b59c",
   "metadata": {},
   "source": [
    "## Q7\n",
    "### Qual o resultado do código a seguir?"
   ]
  },
  {
   "cell_type": "code",
   "execution_count": 15,
   "id": "6523850b",
   "metadata": {},
   "outputs": [
    {
     "name": "stdout",
     "output_type": "stream",
     "text": [
      "True\n"
     ]
    }
   ],
   "source": [
    "def foo(x):\n",
    "    x[0] = ['lets']\n",
    "    x[1] = ['code']\n",
    "    return id(x)\n",
    "q = ['lets', 'code']\n",
    "print(id(q) == foo(q))"
   ]
  },
  {
   "cell_type": "markdown",
   "id": "32d0945e",
   "metadata": {},
   "source": [
    "## Q8\n",
    "### O que essa função exibe no terminal?"
   ]
  },
  {
   "cell_type": "code",
   "execution_count": 16,
   "id": "cf99f191",
   "metadata": {},
   "outputs": [
    {
     "name": "stdout",
     "output_type": "stream",
     "text": [
      "a 1\n",
      "a 2\n",
      "a 3\n",
      "b 1\n",
      "b 2\n",
      "b 3\n",
      "c 1\n",
      "c 2\n",
      "c 3\n"
     ]
    }
   ],
   "source": [
    "def print_alpha_nums(abc_list, num_list):\n",
    "    for char in abc_list:\n",
    "        for num in num_list:\n",
    "            print(char, num)\n",
    "    return\n",
    "\n",
    "print_alpha_nums(['a', 'b', 'c'], [1, 2, 3])"
   ]
  },
  {
   "cell_type": "markdown",
   "id": "95f9e9b0",
   "metadata": {},
   "source": [
    "### Q  9\n",
    "#### Qual é a sintaxe correta para criar uma variável vinculada a um dicionário?"
   ]
  },
  {
   "cell_type": "code",
   "execution_count": 17,
   "id": "b392c057",
   "metadata": {},
   "outputs": [
    {
     "name": "stdout",
     "output_type": "stream",
     "text": [
      "{'fruit': 'apple', 'count': 2, 'price': 3.5}\n"
     ]
    }
   ],
   "source": [
    "\n",
    "fruit_info = {'fruit': 'apple', 'count': 2, 'price': 3.5}\n",
    "print(fruit_info)"
   ]
  },
  {
   "cell_type": "code",
   "execution_count": 18,
   "id": "cf4b050f",
   "metadata": {},
   "outputs": [
    {
     "ename": "SyntaxError",
     "evalue": "invalid syntax (<ipython-input-18-03600051a096>, line 1)",
     "output_type": "error",
     "traceback": [
      "\u001b[1;36m  File \u001b[1;32m\"<ipython-input-18-03600051a096>\"\u001b[1;36m, line \u001b[1;32m1\u001b[0m\n\u001b[1;33m    fruit_info = ['fruit': 'apple', 'count': 2,'price': 3.5 ].dict()\u001b[0m\n\u001b[1;37m                         ^\u001b[0m\n\u001b[1;31mSyntaxError\u001b[0m\u001b[1;31m:\u001b[0m invalid syntax\n"
     ]
    }
   ],
   "source": [
    "\n",
    "fruit_info = ['fruit': 'apple', 'count': 2,'price': 3.5 ].dict()\n",
    "print(fruit_info)"
   ]
  },
  {
   "cell_type": "code",
   "execution_count": 19,
   "id": "5381c509",
   "metadata": {},
   "outputs": [
    {
     "ename": "SyntaxError",
     "evalue": "invalid syntax (<ipython-input-19-9e6fffe65bb2>, line 1)",
     "output_type": "error",
     "traceback": [
      "\u001b[1;36m  File \u001b[1;32m\"<ipython-input-19-9e6fffe65bb2>\"\u001b[1;36m, line \u001b[1;32m1\u001b[0m\n\u001b[1;33m    fruit_info = to_dict('fruit': 'apple', 'count': 2, 'price': 3.5)\u001b[0m\n\u001b[1;37m                                ^\u001b[0m\n\u001b[1;31mSyntaxError\u001b[0m\u001b[1;31m:\u001b[0m invalid syntax\n"
     ]
    }
   ],
   "source": [
    "fruit_info = to_dict('fruit': 'apple', 'count': 2, 'price': 3.5)\n",
    "print(fruit_info)"
   ]
  },
  {
   "cell_type": "code",
   "execution_count": 20,
   "id": "ec899b1f",
   "metadata": {},
   "outputs": [
    {
     "ename": "SyntaxError",
     "evalue": "invalid syntax (<ipython-input-20-27bc460f9460>, line 1)",
     "output_type": "error",
     "traceback": [
      "\u001b[1;36m  File \u001b[1;32m\"<ipython-input-20-27bc460f9460>\"\u001b[1;36m, line \u001b[1;32m1\u001b[0m\n\u001b[1;33m    fruit_info =('fruit': 'apple', 'count': 2,'price': 3.5 ).dict()\u001b[0m\n\u001b[1;37m                        ^\u001b[0m\n\u001b[1;31mSyntaxError\u001b[0m\u001b[1;31m:\u001b[0m invalid syntax\n"
     ]
    }
   ],
   "source": [
    "fruit_info =('fruit': 'apple', 'count': 2,'price': 3.5 ).dict()\n",
    "print(fruit_info)"
   ]
  },
  {
   "cell_type": "markdown",
   "id": "81daac0d",
   "metadata": {},
   "source": [
    "### Q  10\n",
    "#### Qual é a maneira adequada de escrever um list comprehension que representa todas as chaves deste dicionário?"
   ]
  },
  {
   "cell_type": "code",
   "execution_count": 21,
   "id": "127e5c35",
   "metadata": {},
   "outputs": [
    {
     "ename": "SyntaxError",
     "evalue": "invalid syntax (<ipython-input-21-0218df157568>, line 2)",
     "output_type": "error",
     "traceback": [
      "\u001b[1;36m  File \u001b[1;32m\"<ipython-input-21-0218df157568>\"\u001b[1;36m, line \u001b[1;32m2\u001b[0m\n\u001b[1;33m    fruit_names = [x in fruits.keys() for x]\u001b[0m\n\u001b[1;37m                                           ^\u001b[0m\n\u001b[1;31mSyntaxError\u001b[0m\u001b[1;31m:\u001b[0m invalid syntax\n"
     ]
    }
   ],
   "source": [
    "fruits = {'Apples': 5, 'Oranges': 3, 'Bananas': 4}\n",
    "fruit_names = [x in fruits.keys() for x]\n",
    "print(fruit_names)"
   ]
  },
  {
   "cell_type": "code",
   "execution_count": 22,
   "id": "e099a8c7",
   "metadata": {},
   "outputs": [
    {
     "ename": "SyntaxError",
     "evalue": "invalid syntax (<ipython-input-22-b4341060412d>, line 2)",
     "output_type": "error",
     "traceback": [
      "\u001b[1;36m  File \u001b[1;32m\"<ipython-input-22-b4341060412d>\"\u001b[1;36m, line \u001b[1;32m2\u001b[0m\n\u001b[1;33m    fruit_names = for x in fruits.keys() *\u001b[0m\n\u001b[1;37m                  ^\u001b[0m\n\u001b[1;31mSyntaxError\u001b[0m\u001b[1;31m:\u001b[0m invalid syntax\n"
     ]
    }
   ],
   "source": [
    "fruits = {'Apples': 5, 'Oranges': 3, 'Bananas': 4}\n",
    "fruit_names = for x in fruits.keys() *\n",
    "print(fruit_names)"
   ]
  },
  {
   "cell_type": "code",
   "execution_count": 23,
   "id": "64481092",
   "metadata": {},
   "outputs": [
    {
     "name": "stdout",
     "output_type": "stream",
     "text": [
      "['Apples', 'Oranges', 'Bananas']\n"
     ]
    }
   ],
   "source": [
    "fruits = {'Apples': 5, 'Oranges': 3, 'Bananas': 4}\n",
    "fruit_names = [x for x in fruits.keys()]\n",
    "print(fruit_names)"
   ]
  },
  {
   "cell_type": "code",
   "execution_count": 24,
   "id": "99a000b7",
   "metadata": {},
   "outputs": [
    {
     "ename": "SyntaxError",
     "evalue": "invalid syntax (<ipython-input-24-c82d7ec6c0db>, line 2)",
     "output_type": "error",
     "traceback": [
      "\u001b[1;36m  File \u001b[1;32m\"<ipython-input-24-c82d7ec6c0db>\"\u001b[1;36m, line \u001b[1;32m2\u001b[0m\n\u001b[1;33m    fruit_names = x for x in fruits.keys()\u001b[0m\n\u001b[1;37m                    ^\u001b[0m\n\u001b[1;31mSyntaxError\u001b[0m\u001b[1;31m:\u001b[0m invalid syntax\n"
     ]
    }
   ],
   "source": [
    "fruits = {'Apples': 5, 'Oranges': 3, 'Bananas': 4}\n",
    "fruit_names = x for x in fruits.keys()\n",
    "print(fruit_names)"
   ]
  },
  {
   "cell_type": "code",
   "execution_count": null,
   "id": "a154be3e",
   "metadata": {},
   "outputs": [],
   "source": []
  }
 ],
 "metadata": {
  "kernelspec": {
   "display_name": "Python 3",
   "language": "python",
   "name": "python3"
  },
  "language_info": {
   "codemirror_mode": {
    "name": "ipython",
    "version": 3
   },
   "file_extension": ".py",
   "mimetype": "text/x-python",
   "name": "python",
   "nbconvert_exporter": "python",
   "pygments_lexer": "ipython3",
   "version": "3.8.8"
  }
 },
 "nbformat": 4,
 "nbformat_minor": 5
}
