{
 "cells": [
  {
   "cell_type": "markdown",
   "id": "2f9e50a1",
   "metadata": {},
   "source": [
    "# # DESAFIO 18\n",
    "### Faça um programa que leia um ângulo qualquer e mostre na tela o valor do seno, cosseno e tangente desse ângulo\n"
   ]
  },
  {
   "cell_type": "code",
   "execution_count": 6,
   "id": "b5dbd5d5",
   "metadata": {},
   "outputs": [
    {
     "name": "stdout",
     "output_type": "stream",
     "text": [
      "Insira um ângulo em °: 30\n",
      "O ângulo de 30.0 tem o SENO de 0.5\n",
      "O ângulo de 30.0 tem o COSSENO de 0.866\n",
      "O ângulo de 30.0 tem o TANGENTE de 0.5774\n"
     ]
    }
   ],
   "source": [
    "#Dessa vez deixei para o gustavo\n",
    "import math\n",
    "ang = float(input('Insira um ângulo em °: '))\n",
    "seno = math.sin(math.radians(ang))\n",
    "\n",
    "print('O ângulo de {} tem o SENO de {:.4}'.format(ang, seno))\n",
    "cosseno = math.cos(math.radians(ang))\n",
    "print('O ângulo de {} tem o COSSENO de {:.4}'.format(ang, cosseno))\n",
    "tangente = math.tan(math.radians(ang))\n",
    "print('O ângulo de {} tem o TANGENTE de {:.4}'.format(ang, tangente))\n",
    "\n"
   ]
  },
  {
   "cell_type": "markdown",
   "id": "29310f25",
   "metadata": {},
   "source": [
    "## Para se ter acesso aos comandos do Python, pode-se tirar as dúvidas no python.org. Tem todos os comandos utilizados pelo Python."
   ]
  },
  {
   "cell_type": "code",
   "execution_count": 8,
   "id": "ce08845e",
   "metadata": {},
   "outputs": [
    {
     "name": "stdout",
     "output_type": "stream",
     "text": [
      "Insira um ângulo em °: 30\n",
      "O ângulo de 30.0 tem o SENO de 0.5\n",
      "O ângulo de 30.0 tem o COSSENO de 0.866\n",
      "O ângulo de 30.0 tem o TANGENTE de 0.5774\n"
     ]
    }
   ],
   "source": [
    "# Agora utilizando apenas as ferramentas específicas da biblioteca\n",
    "from math import radians, sin, cos, tan\n",
    "ang = float(input('Insira um ângulo em °: '))\n",
    "seno = sin(radians(ang))\n",
    "\n",
    "print('O ângulo de {} tem o SENO de {:.4}'.format(ang, seno))\n",
    "cosseno = cos(radians(ang))\n",
    "print('O ângulo de {} tem o COSSENO de {:.4}'.format(ang, cosseno))\n",
    "tangente = tan(radians(ang))\n",
    "print('O ângulo de {} tem o TANGENTE de {:.4}'.format(ang, tangente))\n"
   ]
  },
  {
   "cell_type": "code",
   "execution_count": null,
   "id": "171ccb07",
   "metadata": {},
   "outputs": [],
   "source": []
  }
 ],
 "metadata": {
  "kernelspec": {
   "display_name": "Python 3",
   "language": "python",
   "name": "python3"
  },
  "language_info": {
   "codemirror_mode": {
    "name": "ipython",
    "version": 3
   },
   "file_extension": ".py",
   "mimetype": "text/x-python",
   "name": "python",
   "nbconvert_exporter": "python",
   "pygments_lexer": "ipython3",
   "version": "3.8.8"
  }
 },
 "nbformat": 4,
 "nbformat_minor": 5
}
