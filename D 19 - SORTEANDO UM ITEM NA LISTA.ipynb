{
 "cells": [
  {
   "cell_type": "markdown",
   "id": "060229b3",
   "metadata": {},
   "source": [
    "## DESAFIO 19\n",
    "### O professor qur sortear um dos seus quatro alunos para apagar o quadro. Faça um programa que ajude ele, ledo o nome deles e escrevendo o nome do escolhido."
   ]
  },
  {
   "cell_type": "code",
   "execution_count": 4,
   "id": "798525a9",
   "metadata": {},
   "outputs": [
    {
     "name": "stdout",
     "output_type": "stream",
     "text": [
      "Insira o 1° nome: ana\n",
      "Insira o 2° nome: beca\n",
      "Insira o 3° nome: car\n",
      "Insira o 4° nome: sil\n",
      "O sorteado foi: sil\n"
     ]
    }
   ],
   "source": [
    "import random\n",
    "n1 = str(input('Insira o 1° nome: '))\n",
    "n2 = str(input('Insira o 2° nome: '))\n",
    "n3 = str(input('Insira o 3° nome: '))\n",
    "n4 = str(input('Insira o 4° nome: '))\n",
    "\n",
    "lista = [n1, n2, n3, n4]\n",
    "\n",
    "sorteio = random.choice(lista)\n",
    "\n",
    "print('O sorteado foi:', sorteio)\n"
   ]
  },
  {
   "cell_type": "code",
   "execution_count": 6,
   "id": "d825940d",
   "metadata": {},
   "outputs": [
    {
     "name": "stdout",
     "output_type": "stream",
     "text": [
      "Insira o 1° nome: Ana\n",
      "Insira o 2° nome: Carlos\n",
      "Insira o 3° nome: Beatriz\n",
      "Insira o 4° nome: Silva\n",
      "O sorteado foi: Ana\n"
     ]
    }
   ],
   "source": [
    "# O mesmo código porem com uma parte somente da biblioteca\n",
    "\n",
    "from random import choice\n",
    "n1 = str(input('Insira o 1° nome: '))\n",
    "n2 = str(input('Insira o 2° nome: '))\n",
    "n3 = str(input('Insira o 3° nome: '))\n",
    "n4 = str(input('Insira o 4° nome: '))\n",
    "\n",
    "lista = [n1, n2, n3, n4]\n",
    "\n",
    "sorteio = choice(lista)\n",
    "\n",
    "print('O sorteado foi:', sorteio)\n"
   ]
  },
  {
   "cell_type": "code",
   "execution_count": null,
   "id": "c21c0063",
   "metadata": {},
   "outputs": [],
   "source": []
  }
 ],
 "metadata": {
  "kernelspec": {
   "display_name": "Python 3",
   "language": "python",
   "name": "python3"
  },
  "language_info": {
   "codemirror_mode": {
    "name": "ipython",
    "version": 3
   },
   "file_extension": ".py",
   "mimetype": "text/x-python",
   "name": "python",
   "nbconvert_exporter": "python",
   "pygments_lexer": "ipython3",
   "version": "3.8.8"
  }
 },
 "nbformat": 4,
 "nbformat_minor": 5
}
