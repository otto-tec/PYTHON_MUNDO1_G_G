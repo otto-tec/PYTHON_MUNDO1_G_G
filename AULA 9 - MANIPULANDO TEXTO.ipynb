{
 "cells": [
  {
   "cell_type": "code",
   "execution_count": 9,
   "id": "fed9527a",
   "metadata": {},
   "outputs": [
    {
     "name": "stdout",
     "output_type": "stream",
     "text": [
      "\t A\n",
      "\t B\n",
      "\t C\n",
      "\t \t D\n",
      "\t \t E\n",
      "\t teste\n",
      "teste\n"
     ]
    }
   ],
   "source": [
    "\n",
    "\n",
    "a = ['A', 'B', 'C']\n",
    "b = ['D', 'E']\n",
    "c = ('teste')\n",
    "for teste in a:\n",
    "    print('\\t', teste)\n",
    "for teste in b:\n",
    "    print('\\t', '\\t', teste)\n",
    "print('\\t', c)\n",
    "print(c)"
   ]
  },
  {
   "cell_type": "code",
   "execution_count": 10,
   "id": "d0954e76",
   "metadata": {},
   "outputs": [
    {
     "name": "stdout",
     "output_type": "stream",
     "text": [
      "Utilizando o \\n para quebra de linha\n"
     ]
    }
   ],
   "source": [
    "print('Utilizando o \\\\n para quebra de linha')"
   ]
  },
  {
   "cell_type": "code",
   "execution_count": 12,
   "id": "b2f3a5b5",
   "metadata": {},
   "outputs": [
    {
     "name": "stdout",
     "output_type": "stream",
     "text": [
      "Imprimindo aspas simples '\n"
     ]
    }
   ],
   "source": [
    "print('Imprimindo aspas simples \\'')"
   ]
  },
  {
   "cell_type": "code",
   "execution_count": 13,
   "id": "e1acc460",
   "metadata": {},
   "outputs": [
    {
     "name": "stdout",
     "output_type": "stream",
     "text": [
      "Imprimindo aspas duplas \"\n"
     ]
    }
   ],
   "source": [
    "print('Imprimindo aspas duplas \\\"')"
   ]
  },
  {
   "cell_type": "code",
   "execution_count": 16,
   "id": "5649a6a6",
   "metadata": {},
   "outputs": [
    {
     "name": "stdout",
     "output_type": "stream",
     "text": [
      "Vamos programar\n"
     ]
    }
   ],
   "source": [
    "frase = 'vAmOs pRoGrAmAr'\n",
    "\n",
    "correct = frase.capitalize()\n",
    "print(correct)"
   ]
  },
  {
   "cell_type": "code",
   "execution_count": 21,
   "id": "19f6af9b",
   "metadata": {},
   "outputs": [
    {
     "name": "stdout",
     "output_type": "stream",
     "text": [
      "Digite sim: asfg\n",
      "Que pena\n"
     ]
    }
   ],
   "source": [
    "i = input('Digite sim: ')\n",
    "\n",
    "if i.upper() == 'SIM':\n",
    "    print('Otimo')\n",
    "else:\n",
    "    print('Que pena')"
   ]
  },
  {
   "cell_type": "code",
   "execution_count": 29,
   "id": "1265d299",
   "metadata": {},
   "outputs": [
    {
     "name": "stdout",
     "output_type": "stream",
     "text": [
      "teste/frase/qualquer\n"
     ]
    }
   ],
   "source": [
    "texto = 'Uma frase qualquer'\n",
    "palavras = texto.split()\n",
    "palavras[0] = 'teste'\n",
    "junto = '/'.join(palavras)\n",
    "print(junto)"
   ]
  },
  {
   "cell_type": "code",
   "execution_count": 35,
   "id": "cdd52598",
   "metadata": {},
   "outputs": [
    {
     "name": "stdout",
     "output_type": "stream",
     "text": [
      "Python é difícil. Por ser difícil, devemos estudar\n",
      "Python é fácil. Por ser fácil, devemos estudar\n",
      "  É difícil. Por ser difícil, devemos estudar\n"
     ]
    }
   ],
   "source": [
    "texto = 'Python é difícil. Por ser difícil, devemos estudar'\n",
    "print(texto)\n",
    "mudanca = texto.replace('difícil', 'fácil')\n",
    "print(mudanca)\n",
    "mudanca = texto.replace('Python',\" \")\n",
    "mudanca_2 = mudanca.replace('é', 'É')\n",
    "print(mudanca_2)"
   ]
  },
  {
   "cell_type": "code",
   "execution_count": 3,
   "id": "fd6bf6da",
   "metadata": {},
   "outputs": [
    {
     "name": "stdout",
     "output_type": "stream",
     "text": [
      "1.0\n"
     ]
    }
   ],
   "source": [
    "lista = [1, 2, 3, 4, 5,]\n",
    "soma = 0\n",
    "for elemento in lista:\n",
    "    soma = elemento\n",
    "    media = soma/len(lista)\n",
    "\n",
    "print(media)"
   ]
  },
  {
   "cell_type": "code",
   "execution_count": 4,
   "id": "6fdcfab4",
   "metadata": {},
   "outputs": [
    {
     "name": "stdout",
     "output_type": "stream",
     "text": [
      "aaa\n",
      "Olá\n",
      "bbb\n"
     ]
    }
   ],
   "source": [
    "def umafuncao():\n",
    "    print('Olá')\n",
    "\n",
    "print('aaa')\n",
    "umafuncao()\n",
    "print('bbb')"
   ]
  },
  {
   "cell_type": "code",
   "execution_count": 9,
   "id": "6d75ab03",
   "metadata": {},
   "outputs": [
    {
     "name": "stdout",
     "output_type": "stream",
     "text": [
      "15\n"
     ]
    }
   ],
   "source": [
    "def umafuncao(a,b):\n",
    "    soma = a+b\n",
    "    return soma\n",
    "\n",
    "    \n",
    "s = umafuncao(10, 5)\n",
    "\n",
    "print(s)\n",
    "\n"
   ]
  },
  {
   "cell_type": "code",
   "execution_count": 2,
   "id": "d0855038",
   "metadata": {},
   "outputs": [
    {
     "name": "stdout",
     "output_type": "stream",
     "text": [
      "(7, 1)\n",
      "<class 'tuple'>\n"
     ]
    }
   ],
   "source": [
    "def maxmin (a):\n",
    "    maximo = max(a)\n",
    "    minimo = min(a)\n",
    "    return maximo, minimo\n",
    "\n",
    "numeros = [1, 3, 2, 7, 6]\n",
    "\n",
    "resultado = maxmin(numeros)\n",
    "print(resultado)\n",
    "print(type(resultado))"
   ]
  },
  {
   "cell_type": "code",
   "execution_count": 5,
   "id": "d7e87a51",
   "metadata": {},
   "outputs": [
    {
     "name": "stdout",
     "output_type": "stream",
     "text": [
      "1\n",
      "7\n"
     ]
    }
   ],
   "source": [
    "def maxmin (a):\n",
    "    maximo = max(a)\n",
    "    minimo = min(a)\n",
    "    return minimo, maximo\n",
    "\n",
    "numeros = [1, 3, 2, 7, 6]\n",
    "\n",
    "min_,max_ = maxmin(numeros)\n",
    "print(min_)\n",
    "print(max_)\n"
   ]
  },
  {
   "cell_type": "code",
   "execution_count": 7,
   "id": "af05a5bc",
   "metadata": {},
   "outputs": [
    {
     "name": "stdout",
     "output_type": "stream",
     "text": [
      "Aprenda Python monstro\n",
      "--------------------------------------------------\n",
      "   Aprenda Python monstro\n",
      "--------------------------------------------------\n",
      "Aprenda Python monstro   \n",
      "--------------------------------------------------\n",
      "Aprenda Python monstro\n",
      "--------------------------------------------------\n",
      "['Aprenda', 'Python', 'monstro']\n",
      "--------------------------------------------------\n",
      " - - -A-p-r-e-n-d-a- -P-y-t-h-o-n- -m-o-n-s-t-r-o- - - \n"
     ]
    }
   ],
   "source": [
    "a = '   Aprenda Python monstro   '\n",
    "print(a.strip())\n",
    "print('-'*50)\n",
    "print(a.rstrip())\n",
    "print('-'*50)\n",
    "print(a.lstrip())\n",
    "print('-'*50)\n",
    "print(a.strip())\n",
    "print('-'*50)\n",
    "print(a.split())#Separa as strings e transforma em uma lista\n",
    "print('-'*50)\n",
    "print('-'.join(a))"
   ]
  },
  {
   "cell_type": "code",
   "execution_count": 16,
   "id": "f5eb6aeb",
   "metadata": {},
   "outputs": [
    {
     "name": "stdout",
     "output_type": "stream",
     "text": [
      "Curso em Video Python\n",
      "--------------------------------------------------\n",
      "so em Video Python\n",
      "--------------------------------------------------\n",
      "so em Video\n",
      "--------------------------------------------------\n",
      "Curso em Video\n",
      "--------------------------------------------------\n",
      "us mVdoPto\n",
      "--------------------------------------------------\n",
      "us mVdo\n"
     ]
    }
   ],
   "source": [
    "# FATIAMENTO DE STRING\n",
    "frase = 'Curso em Video Python'\n",
    "print(frase)       #Curso em Video Python\n",
    "print('-'*50)\n",
    "print(frase[3:])   # so em Video Python\n",
    "print('-'*50)\n",
    "print(frase[3:14]) # so em Video\n",
    "print('-'*50)\n",
    "print(frase[:14])  # Curso em Video\n",
    "print('-'*50)\n",
    "print(frase[1::2])  # us mVdoPto - pula de 2 em 2 e imprime\n",
    "print('-'*50)\n",
    "print(frase[1:15:2])  # us mVdo - mapeia do 1 ao 15 e pula de 2 em 2\n",
    "\n",
    "\n",
    "\n"
   ]
  },
  {
   "cell_type": "code",
   "execution_count": 19,
   "id": "58d8df96",
   "metadata": {},
   "outputs": [
    {
     "name": "stdout",
     "output_type": "stream",
     "text": [
      "Tubarão ou cação é um tipo de peixe de esqueleto cartilaginoso e um corpo hidrodinâmico \n",
      "(com exceção dos Squatiniformes, Hexanchiformes e Orectolobiformes) \n",
      "pertencente à superordem Selachimorpha. \n",
      "Os primeiros tubarões conhecidos viveram há aproximadamente 400 milhões de anos.[1]\n"
     ]
    }
   ],
   "source": [
    "print('''Tubarão ou cação é um tipo de peixe de esqueleto cartilaginoso e um corpo hidrodinâmico \n",
    "(com exceção dos Squatiniformes, Hexanchiformes e Orectolobiformes) \n",
    "pertencente à superordem Selachimorpha. \n",
    "Os primeiros tubarões conhecidos viveram há aproximadamente 400 milhões de anos.[1]''')"
   ]
  },
  {
   "cell_type": "markdown",
   "id": "a5cb0832",
   "metadata": {},
   "source": [
    "### Na situação acima foi utilizado aspas triplas (podem ser simples ou duplas). Essas aspas permitem a quebra do texto conforme ele for escrito."
   ]
  },
  {
   "cell_type": "code",
   "execution_count": 22,
   "id": "8f4f7737",
   "metadata": {},
   "outputs": [
    {
     "name": "stdout",
     "output_type": "stream",
     "text": [
      "Curso em Android\n",
      "--------------------------------------------------\n",
      "['Curso', 'em', 'Python']\n"
     ]
    }
   ],
   "source": [
    "frase = 'Curso em Python'\n",
    "print(frase.replace('Python', 'Android'))\n",
    "print('-'*50)\n",
    "print(frase.split())"
   ]
  },
  {
   "cell_type": "code",
   "execution_count": null,
   "id": "15941e3f",
   "metadata": {},
   "outputs": [],
   "source": []
  }
 ],
 "metadata": {
  "kernelspec": {
   "display_name": "Python 3",
   "language": "python",
   "name": "python3"
  },
  "language_info": {
   "codemirror_mode": {
    "name": "ipython",
    "version": 3
   },
   "file_extension": ".py",
   "mimetype": "text/x-python",
   "name": "python",
   "nbconvert_exporter": "python",
   "pygments_lexer": "ipython3",
   "version": "3.8.8"
  }
 },
 "nbformat": 4,
 "nbformat_minor": 5
}
