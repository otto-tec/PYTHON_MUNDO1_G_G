{
 "cells": [
  {
   "cell_type": "markdown",
   "id": "ae3b1f7f",
   "metadata": {},
   "source": [
    "## DESAFIO 24\n",
    "### Crie um programa que leia o nome de uma cidade e diga se ela começa ou não com o nome 'SANTO'"
   ]
  },
  {
   "cell_type": "code",
   "execution_count": 3,
   "id": "d73ee83c",
   "metadata": {},
   "outputs": [
    {
     "name": "stdout",
     "output_type": "stream",
     "text": [
      "Insira o nome de uma cidade: Santo Amaro\n",
      "Nome válido\n"
     ]
    }
   ],
   "source": [
    "city = input('Insira o nome de uma cidade: ')\n",
    "\n",
    "city = city.upper()\n",
    "city_s = city.split()\n",
    "\n",
    "if city_s[0] == 'SANTO':\n",
    "    print('Nome válido')\n",
    "else:\n",
    "    print('Nome inválido')"
   ]
  },
  {
   "cell_type": "code",
   "execution_count": null,
   "id": "c1a0a6b9",
   "metadata": {},
   "outputs": [],
   "source": []
  }
 ],
 "metadata": {
  "kernelspec": {
   "display_name": "Python 3",
   "language": "python",
   "name": "python3"
  },
  "language_info": {
   "codemirror_mode": {
    "name": "ipython",
    "version": 3
   },
   "file_extension": ".py",
   "mimetype": "text/x-python",
   "name": "python",
   "nbconvert_exporter": "python",
   "pygments_lexer": "ipython3",
   "version": "3.8.8"
  }
 },
 "nbformat": 4,
 "nbformat_minor": 5
}
