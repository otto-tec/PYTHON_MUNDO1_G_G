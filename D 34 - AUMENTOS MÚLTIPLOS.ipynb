{
 "cells": [
  {
   "cell_type": "markdown",
   "id": "7451d122",
   "metadata": {},
   "source": [
    "## DESAFIO 34\n",
    "### Escreva um programa que pergunte o salário de um funcionário e calcule o valor do seu aumento. Para salários superiores a RS 1250,00, calcule um aumento de 10%. Para os inferiores ou iguais, o aumento é de 15%."
   ]
  },
  {
   "cell_type": "code",
   "execution_count": 3,
   "id": "96966f39",
   "metadata": {},
   "outputs": [
    {
     "name": "stdout",
     "output_type": "stream",
     "text": [
      "Insira o valor do salário: 2000\n",
      "O salário do funcionário atual é de R$ 2000.00, portanto o valor com reajuste é de R$ 2200.00\n"
     ]
    }
   ],
   "source": [
    "# Minha programação\n",
    "sal_ = float(input('Insira o valor do salário: '))\n",
    "\n",
    "if sal_ > 1250:\n",
    "    adic = sal_ + (sal_*0.10)\n",
    "else:\n",
    "    adic = sal_ + (sal_*0.15)\n",
    "    \n",
    "print('O salário do funcionário atual é de R$ {:.2f}, portanto o valor com reajuste é de R$ {:.2f}'.format(sal_, adic))"
   ]
  },
  {
   "cell_type": "code",
   "execution_count": 5,
   "id": "5ce1b198",
   "metadata": {},
   "outputs": [
    {
     "name": "stdout",
     "output_type": "stream",
     "text": [
      "Insira o valor do salário: 2000\n",
      "O salário do funcionário atual é de R$ 2000.00, portanto o valor com reajuste é de R$ 2200.00\n"
     ]
    }
   ],
   "source": [
    "# Minha programação em poucas linhas\n",
    "sal_ = float(input('Insira o valor do salário: '))\n",
    "\n",
    "sal_f = sal_ + (sal_*0.10) if sal_ > 1250 else sal_ + (sal_ * 0.15)\n",
    "\n",
    "print('O salário do funcionário atual é de R$ {:.2f}, portanto o valor com reajuste é de R$ {:.2f}'.format(sal_, sal_f))"
   ]
  },
  {
   "cell_type": "code",
   "execution_count": null,
   "id": "705043e8",
   "metadata": {},
   "outputs": [],
   "source": []
  }
 ],
 "metadata": {
  "kernelspec": {
   "display_name": "Python 3",
   "language": "python",
   "name": "python3"
  },
  "language_info": {
   "codemirror_mode": {
    "name": "ipython",
    "version": 3
   },
   "file_extension": ".py",
   "mimetype": "text/x-python",
   "name": "python",
   "nbconvert_exporter": "python",
   "pygments_lexer": "ipython3",
   "version": "3.8.8"
  }
 },
 "nbformat": 4,
 "nbformat_minor": 5
}
