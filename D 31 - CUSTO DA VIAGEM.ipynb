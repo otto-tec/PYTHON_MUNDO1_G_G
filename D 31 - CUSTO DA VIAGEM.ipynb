{
 "cells": [
  {
   "cell_type": "markdown",
   "id": "ee755797",
   "metadata": {},
   "source": [
    "## DESAFIO 31\n",
    "### Desenvolva um programa que pergunte a distância de uma viagem em Km. Calcule o preço da passagem, cobrand RS 0,50 por Km para viagens de até 200Km e R$0,45 para viagens mais longas."
   ]
  },
  {
   "cell_type": "code",
   "execution_count": 1,
   "id": "347f59a7",
   "metadata": {},
   "outputs": [
    {
     "name": "stdout",
     "output_type": "stream",
     "text": [
      "Qual é a distância da viagem: 300\n",
      "O valor de sua passagem será de R$ 135.00\n"
     ]
    }
   ],
   "source": [
    "# Essa é a programação que eu fiz\n",
    "dist_ = float(input('Qual é a distância da viagem: '))\n",
    "\n",
    "if dist_ > 200:\n",
    "    print('O valor de sua passagem será de R$ {:.2f}'.format(dist_*0.45))\n",
    "else:\n",
    "    print('O valor de sua passagem será de R$ {:.2f}'.format(dist_*0.5))"
   ]
  },
  {
   "cell_type": "code",
   "execution_count": 2,
   "id": "5342f434",
   "metadata": {},
   "outputs": [
    {
     "name": "stdout",
     "output_type": "stream",
     "text": [
      "Qual é a distância da sua viagem? 230\n",
      "Você está prestes a começar uma viagem de 230.0Km\n",
      "E o preço da sua passagem será de R$103.50\n"
     ]
    }
   ],
   "source": [
    "# Essa é a programação do Guanabara\n",
    "distância = float(input('Qual é a distância da sua viagem? '))\n",
    "print('Você está prestes a começar uma viagem de {}Km'.format(distância))\n",
    "if distância <= 200:\n",
    "    preço = distância * 0.50\n",
    "else:\n",
    "    preço = distância * 0.45\n",
    "print('E o preço da sua passagem será de R${:.2f}'.format(preço))\n"
   ]
  },
  {
   "cell_type": "code",
   "execution_count": 1,
   "id": "c8ffce08",
   "metadata": {},
   "outputs": [
    {
     "name": "stdout",
     "output_type": "stream",
     "text": [
      "Qual é a distância da sua viagem? 240\n",
      "Você está prestes a começar uma viagem de 240.0Km\n",
      "E o preço da sua passagem será de R$108.00\n"
     ]
    }
   ],
   "source": [
    "# Uma outra programação do Gustavo\n",
    "distância = float(input('Qual é a distância da sua viagem? '))\n",
    "print('Você está prestes a começar uma viagem de {}Km'.format(distância))\n",
    "preço = distância * 0.50 if distância <= 200 else distância * 0.45\n",
    "print('E o preço da sua passagem será de R${:.2f}'.format(preço))\n"
   ]
  },
  {
   "cell_type": "code",
   "execution_count": null,
   "id": "4ce10926",
   "metadata": {},
   "outputs": [],
   "source": []
  }
 ],
 "metadata": {
  "kernelspec": {
   "display_name": "Python 3",
   "language": "python",
   "name": "python3"
  },
  "language_info": {
   "codemirror_mode": {
    "name": "ipython",
    "version": 3
   },
   "file_extension": ".py",
   "mimetype": "text/x-python",
   "name": "python",
   "nbconvert_exporter": "python",
   "pygments_lexer": "ipython3",
   "version": "3.8.8"
  }
 },
 "nbformat": 4,
 "nbformat_minor": 5
}
