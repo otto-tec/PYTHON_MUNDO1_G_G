{
 "cells": [
  {
   "cell_type": "markdown",
   "id": "59346d37",
   "metadata": {},
   "source": [
    "## DESAFIO 17\n",
    "### Faça um programa que leia o comprimento do cateto oposto e do cateto adjacente de um triângulo retângulo. Calcule e mostre o comprimento da hipotenusa."
   ]
  },
  {
   "cell_type": "code",
   "execution_count": 6,
   "id": "396e19c2",
   "metadata": {},
   "outputs": [
    {
     "name": "stdout",
     "output_type": "stream",
     "text": [
      "Insira o valor do Cat. Op.: 2\n",
      "Insira o valor do Cat. Ad.: 2.5\n",
      "Para o valor de cat. op 2.0 e cat. Adj. 2.5, o valor da hipot.é 3.202\n"
     ]
    }
   ],
   "source": [
    "co = float(input('Insira o valor do Cat. Op.: '))\n",
    "ca = float(input(\"Insira o valor do Cat. Ad.: \"))\n",
    "hip = (co**2 + ca**2)**(1/2)\n",
    "print('Para o valor de cat. op {} e cat. Adj. {}, o valor da hipot.é {:.4}'.format(co, ca, hip))"
   ]
  },
  {
   "cell_type": "code",
   "execution_count": 7,
   "id": "aaf7821a",
   "metadata": {},
   "outputs": [
    {
     "name": "stdout",
     "output_type": "stream",
     "text": [
      "Insira o valor do Cat. Op.: 2\n",
      "Insira o valor do Cat. Ad.: 2.5\n",
      "Para o valor de cat. op 2.0 e cat. Adj. 2.5, o valor da hipot.é 3.202\n"
     ]
    }
   ],
   "source": [
    "# Importanto uma das bibliotecas Python\n",
    "\n",
    "import math\n",
    "\n",
    "co = float(input('Insira o valor do Cat. Op.: '))\n",
    "ca = float(input(\"Insira o valor do Cat. Ad.: \"))\n",
    "hip = math.hypot(co, ca)\n",
    "print('Para o valor de cat. op {} e cat. Adj. {}, o valor da hipot.é {:.4}'.format(co, ca, hip))"
   ]
  },
  {
   "cell_type": "code",
   "execution_count": 8,
   "id": "03c97bb3",
   "metadata": {},
   "outputs": [
    {
     "name": "stdout",
     "output_type": "stream",
     "text": [
      "Insira o valor do Cat. Op.: 2\n",
      "Insira o valor do Cat. Ad.: 2.5\n",
      "Para o valor de cat. op 2.0 e cat. Adj. 2.5, o valor da hipot.é 3.202\n"
     ]
    }
   ],
   "source": [
    "# Utilizando somente uma das ferramentas da biblioteca math\n",
    "from math import hypot\n",
    "\n",
    "co = float(input('Insira o valor do Cat. Op.: '))\n",
    "ca = float(input(\"Insira o valor do Cat. Ad.: \"))\n",
    "hip = hypot(co, ca)\n",
    "print('Para o valor de cat. op {} e cat. Adj. {}, o valor da hipot.é {:.4}'.format(co, ca, hip))"
   ]
  },
  {
   "cell_type": "code",
   "execution_count": null,
   "id": "5d72e1a9",
   "metadata": {},
   "outputs": [],
   "source": []
  }
 ],
 "metadata": {
  "kernelspec": {
   "display_name": "Python 3",
   "language": "python",
   "name": "python3"
  },
  "language_info": {
   "codemirror_mode": {
    "name": "ipython",
    "version": 3
   },
   "file_extension": ".py",
   "mimetype": "text/x-python",
   "name": "python",
   "nbconvert_exporter": "python",
   "pygments_lexer": "ipython3",
   "version": "3.8.8"
  }
 },
 "nbformat": 4,
 "nbformat_minor": 5
}
