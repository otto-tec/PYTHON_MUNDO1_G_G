{
 "cells": [
  {
   "cell_type": "markdown",
   "id": "c7722a5d",
   "metadata": {},
   "source": [
    "####  1° teste: com if e elif. Neste caso já mostra que se atendeu o 1° critério ele simplesmente NÃO irá verificar os outros  !!!"
   ]
  },
  {
   "cell_type": "code",
   "execution_count": 3,
   "id": "7ba09cc4",
   "metadata": {},
   "outputs": [
    {
     "name": "stdout",
     "output_type": "stream",
     "text": [
      "1°: 1\n",
      "2°: 2\n",
      "3°: 3\n",
      "a = 1\n"
     ]
    }
   ],
   "source": [
    "a = int(input('1°: '))\n",
    "b = int(input('2°: '))\n",
    "c = int(input('3°: '))\n",
    "\n",
    "if a == 1:\n",
    "    print('a = 1')\n",
    "elif b == 2:\n",
    "    print('b = 2')\n",
    "elif c == 3:\n",
    "    print('c = 3')\n",
    "    "
   ]
  },
  {
   "cell_type": "markdown",
   "id": "1c8fcd39",
   "metadata": {},
   "source": [
    "####  2° teste: perceba como mudou a situação. Colocando todos em if ele irá obrigatoriamente ver e testar TODOS."
   ]
  },
  {
   "cell_type": "code",
   "execution_count": 4,
   "id": "7cbbf179",
   "metadata": {},
   "outputs": [
    {
     "name": "stdout",
     "output_type": "stream",
     "text": [
      "1°: 1\n",
      "2°: 2\n",
      "3°: 3\n",
      "a = 1\n",
      "b = 2\n",
      "c = 3\n"
     ]
    }
   ],
   "source": [
    "a = int(input('1°: '))\n",
    "b = int(input('2°: '))\n",
    "c = int(input('3°: '))\n",
    "\n",
    "if a == 1:\n",
    "    print('a = 1')\n",
    "if b == 2:\n",
    "    print('b = 2')\n",
    "if c == 3:\n",
    "    print('c = 3')"
   ]
  },
  {
   "cell_type": "markdown",
   "id": "667fb5d3",
   "metadata": {},
   "source": [
    "#### 3° teste: Colocando 2 if identados dentro de outro. Acontece que ele analisa TODOS igual ao 2° teste."
   ]
  },
  {
   "cell_type": "code",
   "execution_count": 5,
   "id": "377f35b1",
   "metadata": {},
   "outputs": [
    {
     "name": "stdout",
     "output_type": "stream",
     "text": [
      "1°: 1\n",
      "2°: 2\n",
      "3°: 3\n",
      "a = 1\n",
      "b = 2\n",
      "c = 3\n"
     ]
    }
   ],
   "source": [
    "a = int(input('1°: '))\n",
    "b = int(input('2°: '))\n",
    "c = int(input('3°: '))\n",
    "\n",
    "if a == 1:\n",
    "    print('a = 1')\n",
    "    if b == 2:\n",
    "        print('b = 2')\n",
    "    if c == 3:\n",
    "        print('c = 3')"
   ]
  },
  {
   "cell_type": "markdown",
   "id": "651fa525",
   "metadata": {},
   "source": [
    "#### 4° teste: Neste teste fica claro o que acontece quando usamos um elif abaixo de um if. Se o if for acionado o elif NUNCA VAI SER."
   ]
  },
  {
   "cell_type": "code",
   "execution_count": 6,
   "id": "64d9f39e",
   "metadata": {},
   "outputs": [
    {
     "name": "stdout",
     "output_type": "stream",
     "text": [
      "1°: 1\n",
      "2°: 2\n",
      "3°: 3\n",
      "a = 1\n",
      "b = 2\n"
     ]
    }
   ],
   "source": [
    "a = int(input('1°: '))\n",
    "b = int(input('2°: '))\n",
    "c = int(input('3°: '))\n",
    "\n",
    "if a == 1:\n",
    "    print('a = 1')\n",
    "    if b == 2:\n",
    "        print('b = 2')\n",
    "    elif c == 3:\n",
    "        print('c = 3')"
   ]
  },
  {
   "cell_type": "markdown",
   "id": "773fe54e",
   "metadata": {},
   "source": [
    "#### 5° teste: O else trabalha da mesma forma que o elif, isto se tratando de NÃO entrar em ação caso o if seja acionado."
   ]
  },
  {
   "cell_type": "code",
   "execution_count": 7,
   "id": "def4ec0e",
   "metadata": {},
   "outputs": [
    {
     "name": "stdout",
     "output_type": "stream",
     "text": [
      "1°: 1\n",
      "2°: 2\n",
      "3°: 3\n",
      "a = 1\n",
      "b = 2\n"
     ]
    }
   ],
   "source": [
    "a = int(input('1°: '))\n",
    "b = int(input('2°: '))\n",
    "c = int(input('3°: '))\n",
    "\n",
    "if a == 1:\n",
    "    print('a = 1')\n",
    "    if b == 2:\n",
    "        print('b = 2')\n",
    "    else:\n",
    "        print('c = 3')"
   ]
  },
  {
   "cell_type": "code",
   "execution_count": null,
   "id": "05870c6f",
   "metadata": {},
   "outputs": [],
   "source": []
  }
 ],
 "metadata": {
  "kernelspec": {
   "display_name": "Python 3",
   "language": "python",
   "name": "python3"
  },
  "language_info": {
   "codemirror_mode": {
    "name": "ipython",
    "version": 3
   },
   "file_extension": ".py",
   "mimetype": "text/x-python",
   "name": "python",
   "nbconvert_exporter": "python",
   "pygments_lexer": "ipython3",
   "version": "3.8.8"
  }
 },
 "nbformat": 4,
 "nbformat_minor": 5
}
