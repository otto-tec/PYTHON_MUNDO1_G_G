{
 "cells": [
  {
   "cell_type": "markdown",
   "id": "abf82f45",
   "metadata": {},
   "source": [
    "## DESAFIO 12\n",
    "### Faça um açgoritmo que leia o preço de um produto e mostre sue novo preço, com 5% de desconto."
   ]
  },
  {
   "cell_type": "code",
   "execution_count": 10,
   "id": "65d75c43",
   "metadata": {},
   "outputs": [
    {
     "name": "stdout",
     "output_type": "stream",
     "text": [
      "Insira o valor do prod.: R$100\n",
      "Insira o desconto: % 5\n",
      "O valor do produto foi de R$ 100.00 e o valor com desconto é de: R$ 95.00\n"
     ]
    }
   ],
   "source": [
    "preco = float(input('Insira o valor do prod.: R$'))\n",
    "desc = float(input('Insira o desconto: % '))\n",
    "val_desc = (preco / 100) * desc\n",
    "print('O valor do produto foi de R$ {:.2f} e o valor com desconto é de: R$ {:.2f}'.format(preco, preco - val_desc))"
   ]
  },
  {
   "cell_type": "code",
   "execution_count": null,
   "id": "028a0c66",
   "metadata": {},
   "outputs": [],
   "source": []
  }
 ],
 "metadata": {
  "kernelspec": {
   "display_name": "Python 3",
   "language": "python",
   "name": "python3"
  },
  "language_info": {
   "codemirror_mode": {
    "name": "ipython",
    "version": 3
   },
   "file_extension": ".py",
   "mimetype": "text/x-python",
   "name": "python",
   "nbconvert_exporter": "python",
   "pygments_lexer": "ipython3",
   "version": "3.8.8"
  }
 },
 "nbformat": 4,
 "nbformat_minor": 5
}
