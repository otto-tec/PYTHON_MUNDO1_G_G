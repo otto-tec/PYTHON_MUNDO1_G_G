{
 "cells": [
  {
   "cell_type": "markdown",
   "id": "89220941",
   "metadata": {},
   "source": [
    "## DESAFIO 27\n",
    "### Faça um programa que leia o nome completo de uma pessoa, mostrando em seguida o primeio e o último nome separadamente."
   ]
  },
  {
   "cell_type": "code",
   "execution_count": 3,
   "id": "ba608b0a",
   "metadata": {},
   "outputs": [
    {
     "name": "stdout",
     "output_type": "stream",
     "text": [
      "Insira o nome completo:ANa MaRia BrAga\n",
      "************************************************************\n",
      "O Primeiro Nome É :Ana\n",
      "O Último Nome É   :Braga\n"
     ]
    }
   ],
   "source": [
    "# Esse é o código que eu fiz\n",
    "nome = input('Insira o nome completo:').upper().strip()\n",
    "nome_s = nome.split()\n",
    "print('*'*60)\n",
    "print('O primeiro nome é :{}'.format(nome_s[0]).title())\n",
    "print('O último nome é   :{}'.format(nome_s.pop()).title())\n"
   ]
  },
  {
   "cell_type": "code",
   "execution_count": 2,
   "id": "f284cb0d",
   "metadata": {},
   "outputs": [
    {
     "name": "stdout",
     "output_type": "stream",
     "text": [
      "Digite seu nome completo: ANa MaRia BrAga\n",
      "Muito prazer em te conhecer!\n",
      "Seu primeiro nome é ANa\n",
      "Seu último nome é BrAga\n"
     ]
    }
   ],
   "source": [
    "# Esse é o código que o Gustavo Fez\n",
    "\n",
    "n = input('Digite seu nome completo: ').strip()\n",
    "nome = n.split()\n",
    "print('Muito prazer em te conhecer!')\n",
    "print('Seu primeiro nome é {}'.format(nome[0]))\n",
    "print('Seu último nome é {}'.format(nome[len(nome)-1]))"
   ]
  },
  {
   "cell_type": "markdown",
   "id": "9411d658",
   "metadata": {},
   "source": [
    "### OBSERVAÇÕES\n",
    "\n",
    "Existem algumas semelhanças e diferenças entre os códigos:\n",
    "\n",
    "#### SEMELHANÇAS\n",
    "- Ambos usamos o strip para retirar os espaços antes e depois;\n",
    "- Ambos usamos o split para separar os nomes criando uma lista. Vale ressaltar que se colocarmos  list(nome) ele separa cada caracter, inclusive o espaço.\n",
    "- Ambos usamos a primeira posição da lista para imprimir, no caso [0];\n",
    "- Enfim ambos usamos 5 linhas de código \\o/;\n",
    "\n",
    "#### DIFERENÇAS\n",
    "\n",
    "- A principal diferença fica na parte de encontrar o último nome da lista. Eu utilizei o >pop()<. Nesse sistema o pop apaga esse último nome, portanto não há forma de trabalhar novamente com o que foi usado no pop.\n",
    "   No código do Gustavo foi diferente. Ele usou uma técnica para medir o tamanho do nome completo >len()<. Porém se não colocar - 1 não imprime nada, pois ele conta com o primeiro nome como 0. Essa forma é melhor pois ele não apaga o nome da lista. Assim pode-se usar novamente depois.\n",
    "\n"
   ]
  },
  {
   "cell_type": "code",
   "execution_count": null,
   "id": "177b2977",
   "metadata": {},
   "outputs": [],
   "source": []
  }
 ],
 "metadata": {
  "kernelspec": {
   "display_name": "Python 3",
   "language": "python",
   "name": "python3"
  },
  "language_info": {
   "codemirror_mode": {
    "name": "ipython",
    "version": 3
   },
   "file_extension": ".py",
   "mimetype": "text/x-python",
   "name": "python",
   "nbconvert_exporter": "python",
   "pygments_lexer": "ipython3",
   "version": "3.8.8"
  }
 },
 "nbformat": 4,
 "nbformat_minor": 5
}
