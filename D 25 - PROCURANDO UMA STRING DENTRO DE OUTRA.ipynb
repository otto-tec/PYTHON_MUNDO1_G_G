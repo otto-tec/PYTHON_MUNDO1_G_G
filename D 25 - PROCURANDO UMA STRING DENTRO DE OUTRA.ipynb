{
 "cells": [
  {
   "cell_type": "markdown",
   "id": "b81424f0",
   "metadata": {},
   "source": [
    "## DESAFIO 25\n",
    "### Crie um programa que leia o nome de uma pessoa e diga se ela tem 'SILVA' no nome."
   ]
  },
  {
   "cell_type": "code",
   "execution_count": 10,
   "id": "e09271bb",
   "metadata": {},
   "outputs": [
    {
     "name": "stdout",
     "output_type": "stream",
     "text": [
      "Insira o nome completo: Silva sousa\n",
      "O nome Silva Sousa tem SILVA\n"
     ]
    }
   ],
   "source": [
    "# Minha forma de montar a programação\n",
    "nome = input('Insira o nome completo: ').upper().strip()\n",
    "nome_ = list(nome)\n",
    "silva = 'SILVA'\n",
    "for silva in nome_:\n",
    "    print ('O nome {} tem SILVA'.format(nome.title()))\n",
    "    break"
   ]
  },
  {
   "cell_type": "code",
   "execution_count": 8,
   "id": "21040859",
   "metadata": {},
   "outputs": [
    {
     "name": "stdout",
     "output_type": "stream",
     "text": [
      "Qual é seu nome completo?  Antonio da Silva\n",
      "Seu nome tem Silva? True\n"
     ]
    }
   ],
   "source": [
    "# A forma como o Gustavo montou a programação.\n",
    "nome = str(input('Qual é seu nome completo? ')).strip()\n",
    "print('Seu nome tem Silva? {}'.format('SILVA' in nome.upper()))"
   ]
  },
  {
   "cell_type": "markdown",
   "id": "11dacd2e",
   "metadata": {},
   "source": [
    "### Olha que show a programação acima. O Gustavo usou somente 2 LINHAS!!!"
   ]
  },
  {
   "cell_type": "code",
   "execution_count": null,
   "id": "0f3b0f1e",
   "metadata": {},
   "outputs": [],
   "source": []
  }
 ],
 "metadata": {
  "kernelspec": {
   "display_name": "Python 3",
   "language": "python",
   "name": "python3"
  },
  "language_info": {
   "codemirror_mode": {
    "name": "ipython",
    "version": 3
   },
   "file_extension": ".py",
   "mimetype": "text/x-python",
   "name": "python",
   "nbconvert_exporter": "python",
   "pygments_lexer": "ipython3",
   "version": "3.8.8"
  }
 },
 "nbformat": 4,
 "nbformat_minor": 5
}
