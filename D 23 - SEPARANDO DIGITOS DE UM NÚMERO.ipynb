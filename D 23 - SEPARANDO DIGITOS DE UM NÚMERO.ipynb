{
 "cells": [
  {
   "cell_type": "markdown",
   "id": "b952c079",
   "metadata": {},
   "source": [
    "## DESAFIO 23\n",
    "### Faça um programa que leia um número de 0 a 9999 e mostre na tela cada um dos dígitos separados\n",
    "Ex:\n",
    "Digite um número: 1834\n",
    "Unidade: 4 dezena:3 centena:8 milhar:1"
   ]
  },
  {
   "cell_type": "code",
   "execution_count": 28,
   "id": "0af9e3e6",
   "metadata": {},
   "outputs": [
    {
     "name": "stdout",
     "output_type": "stream",
     "text": [
      "Digite um número de até 4 digitos: 5874\n",
      "Analisando o número 5874\n",
      "A Unidade é: 4\n",
      "A dezena é: 7\n",
      "A centena é: 8\n",
      "O milhar é: 5\n"
     ]
    }
   ],
   "source": [
    "num = int(input('Digite um número de até 4 digitos: '))\n",
    "u = num // 1 % 10\n",
    "d = num // 10 % 10\n",
    "c = num // 100 % 10\n",
    "m = num // 1000 % 10\n",
    "print('Analisando o número {}'.format(num))\n",
    "print('A Unidade é: {}'.format(u))\n",
    "print('A dezena é: {}'.format(d))\n",
    "print('A centena é: {}'.format(c))\n",
    "print('O milhar é: {}'.format(m))\n",
    "\n",
    "\n",
    "\n"
   ]
  },
  {
   "cell_type": "markdown",
   "id": "9f8cec80",
   "metadata": {},
   "source": [
    "### No exercício acima (Feito pelo Gustavo) ficou ainda uma incognita. Porque tem que dividir o resto por 10?? Pesquisarei depois, não compreendi."
   ]
  },
  {
   "cell_type": "code",
   "execution_count": null,
   "id": "98759e7b",
   "metadata": {},
   "outputs": [],
   "source": []
  }
 ],
 "metadata": {
  "kernelspec": {
   "display_name": "Python 3",
   "language": "python",
   "name": "python3"
  },
  "language_info": {
   "codemirror_mode": {
    "name": "ipython",
    "version": 3
   },
   "file_extension": ".py",
   "mimetype": "text/x-python",
   "name": "python",
   "nbconvert_exporter": "python",
   "pygments_lexer": "ipython3",
   "version": "3.8.8"
  }
 },
 "nbformat": 4,
 "nbformat_minor": 5
}
