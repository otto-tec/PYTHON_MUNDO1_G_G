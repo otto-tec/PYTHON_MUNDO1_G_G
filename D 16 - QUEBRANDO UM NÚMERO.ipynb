{
 "cells": [
  {
   "cell_type": "markdown",
   "id": "a1b1393a",
   "metadata": {},
   "source": [
    "## DESAFIO 16\n",
    "### Crie um programa que leia um número Real qualquer pelo teclado e mostre na tel a sua porção inteira.\n",
    "Ex.: Digite um número: 6.127\n",
    "O número 6.127 tem parte inteira 6"
   ]
  },
  {
   "cell_type": "code",
   "execution_count": 1,
   "id": "926c2e28",
   "metadata": {},
   "outputs": [
    {
     "name": "stdout",
     "output_type": "stream",
     "text": [
      "Digite um número: 6.124\n",
      "O número 6.124 tem a parte inteira 6\n"
     ]
    }
   ],
   "source": [
    "i = float(input('Digite um número: '))\n",
    "print('O número {} tem a parte inteira {}'.format(i, int(i)))"
   ]
  },
  {
   "cell_type": "markdown",
   "id": "40dcf8b2",
   "metadata": {},
   "source": [
    "### O Gustavo fez de outra forma"
   ]
  },
  {
   "cell_type": "code",
   "execution_count": 3,
   "id": "842ca813",
   "metadata": {},
   "outputs": [
    {
     "name": "stdout",
     "output_type": "stream",
     "text": [
      "Digite um valor: 6.5\n",
      "O valor digitado foi 6.5 e a sua porção inteira é 6\n"
     ]
    }
   ],
   "source": [
    "import math # Dessa forma você importa toda a biblioteca math\n",
    "num = float(input('Digite um valor: '))\n",
    "print('O valor digitado foi {} e a sua porção inteira é {}'.format(num, math.trunc(num)))"
   ]
  },
  {
   "cell_type": "code",
   "execution_count": 4,
   "id": "9ddead8e",
   "metadata": {},
   "outputs": [
    {
     "name": "stdout",
     "output_type": "stream",
     "text": [
      "Digite um valor: 7.8\n",
      "O valor digitado foi 7.8 e a sua porção inteira é 7\n"
     ]
    }
   ],
   "source": [
    "from math import trunc #Dessa forma você pode importar apenas 1 ferramenta específica da biblioteca math\n",
    "num = float(input('Digite um valor: '))\n",
    "print('O valor digitado foi {} e a sua porção inteira é {}'.format(num, trunc(num)))"
   ]
  },
  {
   "cell_type": "code",
   "execution_count": null,
   "id": "d3d05820",
   "metadata": {},
   "outputs": [],
   "source": []
  }
 ],
 "metadata": {
  "kernelspec": {
   "display_name": "Python 3",
   "language": "python",
   "name": "python3"
  },
  "language_info": {
   "codemirror_mode": {
    "name": "ipython",
    "version": 3
   },
   "file_extension": ".py",
   "mimetype": "text/x-python",
   "name": "python",
   "nbconvert_exporter": "python",
   "pygments_lexer": "ipython3",
   "version": "3.8.8"
  }
 },
 "nbformat": 4,
 "nbformat_minor": 5
}
