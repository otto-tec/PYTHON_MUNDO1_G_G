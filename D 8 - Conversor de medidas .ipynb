{
 "cells": [
  {
   "cell_type": "markdown",
   "id": "78c4775d",
   "metadata": {},
   "source": [
    "## DESAFIO 8\n",
    "### Escreva um programa que leia um valor em metros e o exiba convertido em centímetros e milímetros"
   ]
  },
  {
   "cell_type": "code",
   "execution_count": 3,
   "id": "439823c2",
   "metadata": {},
   "outputs": [
    {
     "name": "stdout",
     "output_type": "stream",
     "text": [
      "Insira a metragem: 5\n",
      "O valor convertido em centimetros é:  500.0 cm\n",
      "O valor convertido em milimetros é: 5000.0 mm\n"
     ]
    }
   ],
   "source": [
    "metros = float(input('Insira a metragem: '))\n",
    "centimetros = metros * 100\n",
    "milímetros = metros * 1000\n",
    "\n",
    "print('O valor convertido em centimetros é: ', centimetros,'cm')\n",
    "print('O valor convertido em milimetros é:', milímetros,'mm')\n"
   ]
  },
  {
   "cell_type": "code",
   "execution_count": null,
   "id": "09f34d7c",
   "metadata": {},
   "outputs": [],
   "source": []
  }
 ],
 "metadata": {
  "kernelspec": {
   "display_name": "Python 3",
   "language": "python",
   "name": "python3"
  },
  "language_info": {
   "codemirror_mode": {
    "name": "ipython",
    "version": 3
   },
   "file_extension": ".py",
   "mimetype": "text/x-python",
   "name": "python",
   "nbconvert_exporter": "python",
   "pygments_lexer": "ipython3",
   "version": "3.8.8"
  }
 },
 "nbformat": 4,
 "nbformat_minor": 5
}
