{
 "cells": [
  {
   "cell_type": "markdown",
   "id": "0912561e",
   "metadata": {},
   "source": [
    "## DESAFIO 11\n",
    "### Faça um programa que leia a largura e a altura de uma parede em metros, calcule a sua área e a quantidade de tinta necessária para pintá-la, sabendo que cada litro de tinta pinta uma área de 2m²"
   ]
  },
  {
   "cell_type": "code",
   "execution_count": 1,
   "id": "a7fd4a9f",
   "metadata": {},
   "outputs": [
    {
     "name": "stdout",
     "output_type": "stream",
     "text": [
      "Insira o valor da largura: 20\n",
      "Insira o valor da altura: 10\n",
      "A área em m² é: 200.0\n",
      "A quantidade de tinta necessária em litros será de: 100.0\n"
     ]
    }
   ],
   "source": [
    "largura = float(input('Insira o valor da largura: '))\n",
    "altura = float(input('Insira o valor da altura: '))\n",
    "m2 = largura * altura\n",
    "print('A área em m² é:', m2)\n",
    "print('A quantidade de tinta necessária em litros será de:', m2 / 2)"
   ]
  }
 ],
 "metadata": {
  "kernelspec": {
   "display_name": "Python 3",
   "language": "python",
   "name": "python3"
  },
  "language_info": {
   "codemirror_mode": {
    "name": "ipython",
    "version": 3
   },
   "file_extension": ".py",
   "mimetype": "text/x-python",
   "name": "python",
   "nbconvert_exporter": "python",
   "pygments_lexer": "ipython3",
   "version": "3.8.8"
  }
 },
 "nbformat": 4,
 "nbformat_minor": 5
}
