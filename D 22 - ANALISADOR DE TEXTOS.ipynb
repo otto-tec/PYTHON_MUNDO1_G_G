{
 "cells": [
  {
   "cell_type": "markdown",
   "id": "9bdd942a",
   "metadata": {},
   "source": [
    "## DESAFIO 22 \n",
    "### CRIE UM PROGRAMA QUE LEIA O NOME COMPLETO DE UMA PESSOA E MOSTRE:\n",
    "- O NOME COM TODAS AS LETRAS MAIÚSCULAS E MINÚSCULAS.\n",
    "- QUANTAS LETRAS AO TODO (SEM CONSIDERAR ESPAÇOS).\n",
    "- QUANTAS LETRAS TEM O PRIMEIRO NOME."
   ]
  },
  {
   "cell_type": "code",
   "execution_count": 13,
   "id": "7f902dc1",
   "metadata": {},
   "outputs": [
    {
     "name": "stdout",
     "output_type": "stream",
     "text": [
      "Insira o nome completo: Otto Schultz Filho\n",
      "**************************************************\n",
      "O nome com letras maiúsculas e ninusculas:\n",
      " OTTO SCHULTZ FILHO // otto schultz filho\n",
      "--------------------------------------------------\n",
      "A quantidade de letras ao todo são:\n",
      " 16\n",
      "--------------------------------------------------\n",
      "A quantidade de letras no primeiro nome é:\n",
      " 4\n"
     ]
    }
   ],
   "source": [
    "nome = input('Insira o nome completo: ')\n",
    "\n",
    "nome_lista = nome.split()\n",
    "nome_1 = nome_lista[0]\n",
    "nome_s_espaco= nome.replace(' ', '')\n",
    "nome_letras = len(nome_s_espaco)\n",
    "\n",
    "print('*'*50)\n",
    "print('O nome com letras maiúsculas e ninusculas:\\n', nome.upper(),'//', nome.lower())\n",
    "print('-'*50)\n",
    "print('A quantidade de letras ao todo são:\\n', nome_letras)\n",
    "print('-'*50)\n",
    "print('A quantidade de letras no primeiro nome é:\\n', len(nome_1))\n"
   ]
  },
  {
   "cell_type": "markdown",
   "id": "1a431eeb",
   "metadata": {},
   "source": [
    "### ABAIXO É A FORMA QUE O GUSTAVO GUANABARA FEZ"
   ]
  },
  {
   "cell_type": "code",
   "execution_count": 14,
   "id": "9eeb9628",
   "metadata": {},
   "outputs": [
    {
     "name": "stdout",
     "output_type": "stream",
     "text": [
      "Insira o nome completo: Otto Schultz Filho\n",
      "Analisando seu nome...\n",
      "Seu nome em maiúscula é OTTO SCHULTZ FILHO\n",
      "Seu nome em minúscula é otto schultz filho\n",
      "Seu nome tem ao todo 16 letras\n",
      "Seu primeiro nome tem 4 letras\n"
     ]
    }
   ],
   "source": [
    "nome = str(input('Insira o nome completo: ')).strip()\n",
    "print('Analisando seu nome...')\n",
    "print('Seu nome em maiúscula é {}'.format(nome.upper()))\n",
    "print('Seu nome em minúscula é {}'.format(nome.lower()))\n",
    "print('Seu nome tem ao todo {} letras'. format(len(nome) - nome.count(' ')))\n",
    "print('Seu primeiro nome tem {} letras'. format(nome.find(' ')))\n",
    "\n"
   ]
  },
  {
   "cell_type": "markdown",
   "id": "9059b628",
   "metadata": {},
   "source": [
    "### Perceba que ele utilizou somente 6 linhas de comando. Um dos segredos é fazer as conversões dentro do próprio print, por esse motivo em vídeos anteriores ele mencionou que o print também é uma função."
   ]
  },
  {
   "cell_type": "code",
   "execution_count": null,
   "id": "01901b66",
   "metadata": {},
   "outputs": [],
   "source": []
  }
 ],
 "metadata": {
  "kernelspec": {
   "display_name": "Python 3",
   "language": "python",
   "name": "python3"
  },
  "language_info": {
   "codemirror_mode": {
    "name": "ipython",
    "version": 3
   },
   "file_extension": ".py",
   "mimetype": "text/x-python",
   "name": "python",
   "nbconvert_exporter": "python",
   "pygments_lexer": "ipython3",
   "version": "3.8.8"
  }
 },
 "nbformat": 4,
 "nbformat_minor": 5
}
