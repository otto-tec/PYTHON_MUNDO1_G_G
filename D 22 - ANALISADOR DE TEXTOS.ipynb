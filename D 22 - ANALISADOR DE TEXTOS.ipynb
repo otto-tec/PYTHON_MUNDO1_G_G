{
 "cells": [
  {
   "cell_type": "markdown",
   "id": "9bdd942a",
   "metadata": {},
   "source": [
    "## DESAFIO 22 \n",
    "### CRIE UM PROGRAMA QUE LEIA O NOME COMPLETO DE UMA PESSOA E MOSTRE:\n",
    "- O NOME COM TODAS AS LETRAS MAIÚSCULAS E MINÚSCULAS.\n",
    "- QUANTAS LETRAS AO TODO (SEM CONSIDERAR ESPAÇOS).\n",
    "- QUANTAS LETRAS TEM O PRIMEIRO NOME."
   ]
  },
  {
   "cell_type": "code",
   "execution_count": 10,
   "id": "7f902dc1",
   "metadata": {},
   "outputs": [
    {
     "name": "stdout",
     "output_type": "stream",
     "text": [
      "Insira o nome completo: Otto Schultz Filho\n",
      "**************************************************\n",
      "O nome com letras maiúsculas:\n",
      " OTTO SCHULTZ FILHO\n",
      "--------------------------------------------------\n",
      "A quantidade de letras ao todo são:\n",
      " 16\n",
      "--------------------------------------------------\n",
      "A quantidade de letras no primeiro nome é:\n",
      " Otto\n"
     ]
    }
   ],
   "source": [
    "nome = input('Insira o nome completo: ')\n",
    "\n",
    "nome_lista = nome.split()\n",
    "nome_1 = nome_lista[0]\n",
    "nome_s_espaco= nome.replace(' ', '')\n",
    "nome_letras = len(nome_s_espaco)\n",
    "\n",
    "print('*'*50)\n",
    "print('O nome com letras maiúsculas:\\n', nome.upper())\n",
    "print('-'*50)\n",
    "print('A quantidade de letras ao todo são:\\n', nome_letras)\n",
    "print('-'*50)\n",
    "print('A quantidade de letras no primeiro nome é:\\n', nome_1)\n"
   ]
  },
  {
   "cell_type": "code",
   "execution_count": null,
   "id": "8d368237",
   "metadata": {},
   "outputs": [],
   "source": []
  }
 ],
 "metadata": {
  "kernelspec": {
   "display_name": "Python 3",
   "language": "python",
   "name": "python3"
  },
  "language_info": {
   "codemirror_mode": {
    "name": "ipython",
    "version": 3
   },
   "file_extension": ".py",
   "mimetype": "text/x-python",
   "name": "python",
   "nbconvert_exporter": "python",
   "pygments_lexer": "ipython3",
   "version": "3.8.8"
  }
 },
 "nbformat": 4,
 "nbformat_minor": 5
}
