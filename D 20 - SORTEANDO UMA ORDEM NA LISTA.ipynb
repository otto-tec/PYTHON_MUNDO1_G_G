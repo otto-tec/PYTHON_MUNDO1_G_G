{
 "cells": [
  {
   "cell_type": "markdown",
   "id": "4b75fe3c",
   "metadata": {},
   "source": [
    "## DESAFIO 20\n",
    "### O mesmo professor do desafio anterior quer sortear a ordem de apresentação de trabalhos dos alunos. Faça um program que leia o nome dos quatro alunos e mostre a ordem sorteada."
   ]
  },
  {
   "cell_type": "code",
   "execution_count": 1,
   "id": "7b311c88",
   "metadata": {},
   "outputs": [
    {
     "name": "stdout",
     "output_type": "stream",
     "text": [
      "Coloque o nome do 1° aluno: ana\n",
      "Coloque o nome do 2° aluno: carlos\n",
      "Coloque o nome do 3° aluno: maya\n",
      "Coloque o nome do 4° aluno: ale\n",
      "A ordem de apresentação será:\n",
      "['maya', 'carlos', 'ana', 'ale']\n"
     ]
    }
   ],
   "source": [
    "# importando a biblioteca inteira\n",
    "import random \n",
    "\n",
    "n1 = (input('Coloque o nome do 1° aluno: '))\n",
    "n2 = (input('Coloque o nome do 2° aluno: '))\n",
    "n3 = (input('Coloque o nome do 3° aluno: '))\n",
    "n4 = (input('Coloque o nome do 4° aluno: '))\n",
    "\n",
    "lista = [n1, n2, n3, n4]\n",
    "random.shuffle(lista)\n",
    "\n",
    "print('A ordem de apresentação será:')\n",
    "print(lista)\n",
    "\n"
   ]
  },
  {
   "cell_type": "code",
   "execution_count": 2,
   "id": "63949cdf",
   "metadata": {},
   "outputs": [
    {
     "name": "stdout",
     "output_type": "stream",
     "text": [
      "Coloque o nome do 1° aluno: Ana \n",
      "Coloque o nome do 2° aluno: Bete\n",
      "Coloque o nome do 3° aluno: Camila\n",
      "Coloque o nome do 4° aluno: Daiane\n",
      "A ordem de apresentação será:\n",
      "['Camila', 'Ana ', 'Daiane', 'Bete']\n"
     ]
    }
   ],
   "source": [
    "# Importando somente uma ferramenta da biblioteca\n",
    "from random import shuffle \n",
    "\n",
    "n1 = (input('Coloque o nome do 1° aluno: '))\n",
    "n2 = (input('Coloque o nome do 2° aluno: '))\n",
    "n3 = (input('Coloque o nome do 3° aluno: '))\n",
    "n4 = (input('Coloque o nome do 4° aluno: '))\n",
    "\n",
    "lista = [n1, n2, n3, n4]\n",
    "shuffle(lista)\n",
    "\n",
    "print('A ordem de apresentação será:')\n",
    "print(lista)\n",
    "\n"
   ]
  },
  {
   "cell_type": "code",
   "execution_count": null,
   "id": "af0cede7",
   "metadata": {},
   "outputs": [],
   "source": []
  }
 ],
 "metadata": {
  "kernelspec": {
   "display_name": "Python 3",
   "language": "python",
   "name": "python3"
  },
  "language_info": {
   "codemirror_mode": {
    "name": "ipython",
    "version": 3
   },
   "file_extension": ".py",
   "mimetype": "text/x-python",
   "name": "python",
   "nbconvert_exporter": "python",
   "pygments_lexer": "ipython3",
   "version": "3.8.8"
  }
 },
 "nbformat": 4,
 "nbformat_minor": 5
}
