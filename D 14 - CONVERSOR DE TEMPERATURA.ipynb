{
 "cells": [
  {
   "cell_type": "markdown",
   "id": "22c652a2",
   "metadata": {},
   "source": [
    "## DESAFIO 14\n",
    "### Escreva um programa que converta uma temperatura digitada em °C e converta em °F"
   ]
  },
  {
   "cell_type": "code",
   "execution_count": null,
   "id": "78608734",
   "metadata": {},
   "outputs": [],
   "source": [
    "C = float(input('Digite a temperatura em °C: '))\n",
    "F = C * 1.8 + 32\n",
    "print('Para a temperatura de {}°C teremos {} em °F'.format(C, F))"
   ]
  },
  {
   "cell_type": "markdown",
   "id": "d0503422",
   "metadata": {},
   "source": [
    "### DESAFIO EXTRA\n",
    "Ter que montar uma formulação igual o da internet. O usuário poderá escolher qual a 1° temperatura (C, K, F), e poderá escolher para qual ele vai querer a conversão (C, K, F). Bora!!!"
   ]
  },
  {
   "cell_type": "code",
   "execution_count": 5,
   "id": "4f20e8ff",
   "metadata": {},
   "outputs": [
    {
     "name": "stdout",
     "output_type": "stream",
     "text": [
      "Insira qual a unid. de temp.°C - °K - °F: K\n",
      "------------------------------------------------------------\n",
      "Insira a unid. de temp. que deseja converter.°C - °K - °F: f\n",
      "------------------------------------------------------------\n",
      "Insira a quantia de temperatura: 50\n",
      "------------------------------------------------------------\n",
      "A conversão de 50.00 °K para °F é de: -369.67 Fahrenheit\n"
     ]
    }
   ],
   "source": [
    "i = str(input('Insira qual a unid. de temp.°C - °K - °F: ' ))\n",
    "print('-'* 60)\n",
    "o = str(input('Insira a unid. de temp. que deseja converter.°C - °K - °F: ' ))\n",
    "print('-'* 60)\n",
    "temp = float(input('Insira a quantia de temperatura: '))\n",
    "print('-'* 60)\n",
    "\n",
    "\n",
    "# CONVERSÕES QUE USAM CELSIUS\n",
    "if (i == 'C' or i == 'c') and (o == 'K' or o == 'k'):\n",
    "    temp1 = temp + 273.15\n",
    "    print('A conversão de {:.2f} °C para °K é de: {:.2f} Kelvin'.format(temp, temp1))\n",
    "\n",
    "elif (i == 'C' or i == 'c') and (o == 'F' or o == 'f'):\n",
    "    temp1 = temp * 1.8 + 32\n",
    "    print('A conversão de {:.2f} °C para °F é de: {:.2f} Fahrenheit'.format(temp, temp1))\n",
    "\n",
    "elif (i == 'K' or i == 'k') and (o == 'C' or o == 'c'):\n",
    "    temp1 = temp - 273.15\n",
    "    print('A conversão de {:.2f} °K para °C é de: {:.2f} Celsius'.format(temp, temp1))\n",
    "    \n",
    "elif (i == 'F' or i == 'f') and (o == 'C' or o == 'c'):\n",
    "    temp1 = (temp - 32) / 1.8\n",
    "    print('A conversão de {:.2f} °F para °C é de: {:.2f} Celsius'.format(temp, temp1))\n",
    "\n",
    "    \n",
    "# CONVERSÕES QUE USAM KELVIN Fora o Celsius\n",
    "elif (i == 'K' or i == 'k') and (o == 'F' or o == 'f'):\n",
    "    temp1 = (temp - 273.15) * 1.8 + 32\n",
    "    print('A conversão de {:.2f} °K para °F é de: {:.2f} Fahrenheit'.format(temp, temp1))\n",
    "\n",
    "\n",
    "elif (i == 'F' or i == 'f') and (o == 'K' or o == 'k'):\n",
    "    temp1 = ((temp - 32) * 5 / 9) + 273\n",
    "    print('A conversão de {:.2f} °F para °K é de: {:.2f} Kelvin'.format(temp, temp1))\n",
    "   \n",
    "\n",
    "        "
   ]
  },
  {
   "cell_type": "code",
   "execution_count": null,
   "id": "0db2cc66",
   "metadata": {},
   "outputs": [],
   "source": []
  }
 ],
 "metadata": {
  "kernelspec": {
   "display_name": "Python 3",
   "language": "python",
   "name": "python3"
  },
  "language_info": {
   "codemirror_mode": {
    "name": "ipython",
    "version": 3
   },
   "file_extension": ".py",
   "mimetype": "text/x-python",
   "name": "python",
   "nbconvert_exporter": "python",
   "pygments_lexer": "ipython3",
   "version": "3.8.8"
  }
 },
 "nbformat": 4,
 "nbformat_minor": 5
}
