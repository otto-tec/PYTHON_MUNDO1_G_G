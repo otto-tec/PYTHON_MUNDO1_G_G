{
 "cells": [
  {
   "cell_type": "markdown",
   "id": "e527569a",
   "metadata": {},
   "source": [
    "## DESAFIO 10\n",
    "###  Crie um programa que leia quanto dinheiro uma pessoa tem na carteira e mostre quantos Dólares ela pode comprar."
   ]
  },
  {
   "cell_type": "code",
   "execution_count": 1,
   "id": "e5fbfdc7",
   "metadata": {},
   "outputs": [
    {
     "name": "stdout",
     "output_type": "stream",
     "text": [
      "Quanto dinheiro vc tem na carteira? R$ 35\n",
      "Com R$ 35.00 você pode comprar US$ 10.70\n"
     ]
    }
   ],
   "source": [
    "real = float(input('Quanto dinheiro vc tem na carteira? R$ '))\n",
    "dolar = real / 3.27\n",
    "\n",
    "print('Com R$ {:.2f} você pode comprar US$ {:.2f}'.format(real, dolar))"
   ]
  },
  {
   "cell_type": "code",
   "execution_count": null,
   "id": "14300a48",
   "metadata": {},
   "outputs": [],
   "source": []
  }
 ],
 "metadata": {
  "kernelspec": {
   "display_name": "Python 3",
   "language": "python",
   "name": "python3"
  },
  "language_info": {
   "codemirror_mode": {
    "name": "ipython",
    "version": 3
   },
   "file_extension": ".py",
   "mimetype": "text/x-python",
   "name": "python",
   "nbconvert_exporter": "python",
   "pygments_lexer": "ipython3",
   "version": "3.8.8"
  }
 },
 "nbformat": 4,
 "nbformat_minor": 5
}
