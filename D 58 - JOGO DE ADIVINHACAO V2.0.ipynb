{
 "cells": [
  {
   "cell_type": "markdown",
   "id": "601796fa",
   "metadata": {},
   "source": [
    "## DESAFIO 58\n",
    "### Melhore o jogo do Desafio 28 onde o computador vai 'pensar' em um número entre 0 e 10. Só que agora o jogador vai tentar adivinhar até acertar, mostrando no final quantos palpites foram necessários para vencer."
   ]
  },
  {
   "cell_type": "code",
   "execution_count": 26,
   "id": "af992963",
   "metadata": {},
   "outputs": [
    {
     "name": "stdout",
     "output_type": "stream",
     "text": [
      "Sou seu computador...\n",
      "Acabei de pensar em um número entre 0 e 10.\n",
      "Será que você consegue adivinhar qual foi?\n",
      "Qual o seu palpite? 5\n",
      "============================\n",
      "Mais...Tente mais uma vez.\n",
      "Qual o seu palpite? 9\n",
      "============================\n",
      "Menos...Tente mais uma vez.\n",
      "Qual o seu palpite? 8\n",
      "===================================\n",
      "Acertou com 3 tentativas. Parabens!\n"
     ]
    }
   ],
   "source": [
    "# PROGRAMA QUE EU FIZ\n",
    "import random\n",
    "print('''Sou seu computador...\n",
    "Acabei de pensar em um número entre 0 e 10.\n",
    "Será que você consegue adivinhar qual foi?''')\n",
    "\n",
    "c = 1\n",
    "entr_ = int(input('Qual o seu palpite? '))\n",
    "sort_ = random.randint(1, 10)\n",
    "\n",
    "while entr_ != sort_:\n",
    "    if entr_ < sort_:\n",
    "            print('='* 28)\n",
    "            print('Mais...Tente mais uma vez.')\n",
    "            entr_ = int(input('Qual o seu palpite? '))\n",
    "            c = c + 1\n",
    "    elif entr_ > sort_:\n",
    "            print('='* 28)\n",
    "            print('Menos...Tente mais uma vez.')\n",
    "            entr_ = int(input('Qual o seu palpite? '))\n",
    "            c = c + 1\n",
    "\n",
    "print('=' * 35)\n",
    "print('Acertou com {} tentativas. Parabens!'.format(c))"
   ]
  },
  {
   "cell_type": "code",
   "execution_count": 27,
   "id": "1ad591ad",
   "metadata": {},
   "outputs": [
    {
     "name": "stdout",
     "output_type": "stream",
     "text": [
      "Sou seu computador... Acabei de pensar em um número entre 0 e 10.\n",
      "Será que você consegue adivinhar qual foi? \n",
      "Qual é seu palpite? 4\n",
      "Mais... Tente mais uma vez.\n",
      "Qual é seu palpite? 5\n",
      "Mais... Tente mais uma vez.\n",
      "Qual é seu palpite? 6\n",
      "Mais... Tente mais uma vez.\n",
      "Qual é seu palpite? 7\n",
      "Mais... Tente mais uma vez.\n",
      "Qual é seu palpite? 8\n",
      "Mais... Tente mais uma vez.\n",
      "Qual é seu palpite? 9\n",
      "Mais... Tente mais uma vez.\n",
      "Qual é seu palpite? 0\n",
      "Mais... Tente mais uma vez.\n",
      "Qual é seu palpite? 10\n",
      "Acertou com 8 tentativas. Parabens!\n"
     ]
    }
   ],
   "source": [
    "from random import randint\n",
    "computador = randint(0, 10)\n",
    "print('Sou seu computador... Acabei de pensar em um número entre 0 e 10.')\n",
    "print('Será que você consegue adivinhar qual foi? ')\n",
    "acertou = False\n",
    "palpites = 0\n",
    "while not acertou:\n",
    "    jogador = int(input('Qual é seu palpite? '))\n",
    "    palpites += 1\n",
    "    if jogador == computador:\n",
    "        acertou = True\n",
    "    else:\n",
    "        if jogador < computador:\n",
    "            print('Mais... Tente mais uma vez.')\n",
    "        elif jogador > computador:\n",
    "            print('Menos...Tente mais uma vez.')\n",
    "print('Acertou com {} tentativas. Parabens!'.format(palpites))\n"
   ]
  },
  {
   "cell_type": "code",
   "execution_count": null,
   "id": "5e72bb0c",
   "metadata": {},
   "outputs": [],
   "source": []
  }
 ],
 "metadata": {
  "kernelspec": {
   "display_name": "Python 3",
   "language": "python",
   "name": "python3"
  },
  "language_info": {
   "codemirror_mode": {
    "name": "ipython",
    "version": 3
   },
   "file_extension": ".py",
   "mimetype": "text/x-python",
   "name": "python",
   "nbconvert_exporter": "python",
   "pygments_lexer": "ipython3",
   "version": "3.8.8"
  }
 },
 "nbformat": 4,
 "nbformat_minor": 5
}
