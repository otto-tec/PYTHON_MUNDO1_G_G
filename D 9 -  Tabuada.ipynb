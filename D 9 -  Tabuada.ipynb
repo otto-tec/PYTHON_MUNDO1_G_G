{
 "cells": [
  {
   "cell_type": "markdown",
   "id": "a045d203",
   "metadata": {},
   "source": [
    "## DESAFIO 9\n",
    "### Faça um programa que leia um número inteiro qualquer e mostre na tela a sua tabuada."
   ]
  },
  {
   "cell_type": "code",
   "execution_count": 1,
   "id": "36d9ed7b",
   "metadata": {},
   "outputs": [
    {
     "name": "stdout",
     "output_type": "stream",
     "text": [
      "Digite o número desejado: 80\n",
      "A tabuada do número 80 é:\n",
      "80 x 1: 80\n",
      "80 x 2: 160\n",
      "80 x 3: 240\n",
      "80 x 4: 320\n",
      "80 x 5: 400\n",
      "80 x 6: 480\n",
      "80 x 7: 560\n",
      "80 x 8: 640\n",
      "80 x 9: 720\n",
      "80 x 10:800 \n"
     ]
    }
   ],
   "source": [
    "valor = int(input('Digite o número desejado: '))\n",
    "n1 = valor * 1\n",
    "n2 = valor * 2\n",
    "n3 = valor * 3\n",
    "n4 = valor * 4\n",
    "n5 = valor * 5\n",
    "n6 = valor * 6\n",
    "n7 = valor * 7\n",
    "n8 = valor * 8\n",
    "n9 = valor * 9\n",
    "n10 = valor * 10\n",
    "\n",
    "print('''A tabuada do número {} é:\n",
    "{} x 1: {}\n",
    "{} x 2: {}\n",
    "{} x 3: {}\n",
    "{} x 4: {}\n",
    "{} x 5: {}\n",
    "{} x 6: {}\n",
    "{} x 7: {}\n",
    "{} x 8: {}\n",
    "{} x 9: {}\n",
    "{} x 10:{} '''.format(valor, valor, n1, valor, n2, valor, n3, valor, n4, valor, n5, valor, n6, valor, n7, valor, n8, valor, n9, valor, n10))"
   ]
  },
  {
   "cell_type": "markdown",
   "id": "cec0a356",
   "metadata": {},
   "source": [
    "### O Gustavo Guanabara agilizou o processo programando de outra forma, segue:"
   ]
  },
  {
   "cell_type": "code",
   "execution_count": 8,
   "id": "fb570c5e",
   "metadata": {},
   "outputs": [
    {
     "name": "stdout",
     "output_type": "stream",
     "text": [
      "Digite o número desejado: 8\n",
      "8 x  1 = 8\n",
      "8 x  2 = 16\n",
      "8 x  3 = 24\n",
      "8 x  4 = 32\n",
      "8 x  5 = 40\n",
      "8 x  6 = 48\n",
      "8 x  7 = 56\n",
      "8 x  8 = 64\n",
      "8 x  9 = 72\n",
      "8 x 10 = 80\n",
      "***************\n"
     ]
    }
   ],
   "source": [
    "valor = int(input('Digite o número desejado: '))\n",
    "print('{} x {:2} = {}'. format(valor, 1, valor*1))\n",
    "print('{} x {:2} = {}'. format(valor, 2, valor*2))\n",
    "print('{} x {:2} = {}'. format(valor, 3, valor*3))\n",
    "print('{} x {:2} = {}'. format(valor, 4, valor*4))\n",
    "print('{} x {:2} = {}'. format(valor, 5, valor*5))\n",
    "print('{} x {:2} = {}'. format(valor, 6, valor*6))\n",
    "print('{} x {:2} = {}'. format(valor, 7, valor*7))\n",
    "print('{} x {:2} = {}'. format(valor, 8, valor*8))\n",
    "print('{} x {:2} = {}'. format(valor, 9, valor*9))\n",
    "print('{} x {:2} = {}'. format(valor, 10, valor*10))\n",
    "print('*'*15)\n",
    "\n"
   ]
  },
  {
   "cell_type": "code",
   "execution_count": null,
   "id": "984543ad",
   "metadata": {},
   "outputs": [],
   "source": []
  }
 ],
 "metadata": {
  "kernelspec": {
   "display_name": "Python 3",
   "language": "python",
   "name": "python3"
  },
  "language_info": {
   "codemirror_mode": {
    "name": "ipython",
    "version": 3
   },
   "file_extension": ".py",
   "mimetype": "text/x-python",
   "name": "python",
   "nbconvert_exporter": "python",
   "pygments_lexer": "ipython3",
   "version": "3.8.8"
  }
 },
 "nbformat": 4,
 "nbformat_minor": 5
}
