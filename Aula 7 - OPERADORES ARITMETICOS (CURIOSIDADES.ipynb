{
 "cells": [
  {
   "cell_type": "code",
   "execution_count": 13,
   "id": "8bf0c8c4",
   "metadata": {},
   "outputs": [
    {
     "name": "stdout",
     "output_type": "stream",
     "text": [
      "Insira dado: Otto\n",
      "O dado foi         Otto        >>>> Teste\n"
     ]
    }
   ],
   "source": [
    "a = input('Insira dado: ')\n",
    "b = 'Teste'\n",
    "\n",
    "print('O dado foi {:^20}'.format(a), end='>>>> ')\n",
    "print(b)"
   ]
  },
  {
   "cell_type": "markdown",
   "id": "d7d02103",
   "metadata": {},
   "source": [
    "Quando foi usado as chaves, com o objetivo de aplicar o .format tem algumas curiosidades. Ex.: na chave está {:#^20}. Analisando:\n",
    "- : Quer dizer a informação que esta sendo chamada vai ter alguma alteração;\n",
    "- (#) Quer dizer está sendo introduzido esse simbolo ao lado da informação;\n",
    "- ^ Quer dizer que a informação que está sendo inserida ficará no meio. Portanto o simbolo ficará dos lados.\n",
    "- 20 Essa é a quantidade de vezes que se deseja repetir o simbolo"
   ]
  },
  {
   "cell_type": "markdown",
   "id": "c65be9d9",
   "metadata": {},
   "source": [
    "Desafio 005 ao 013"
   ]
  }
 ],
 "metadata": {
  "kernelspec": {
   "display_name": "Python 3",
   "language": "python",
   "name": "python3"
  },
  "language_info": {
   "codemirror_mode": {
    "name": "ipython",
    "version": 3
   },
   "file_extension": ".py",
   "mimetype": "text/x-python",
   "name": "python",
   "nbconvert_exporter": "python",
   "pygments_lexer": "ipython3",
   "version": "3.8.8"
  }
 },
 "nbformat": 4,
 "nbformat_minor": 5
}
