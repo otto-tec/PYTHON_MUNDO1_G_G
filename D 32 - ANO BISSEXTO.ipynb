{
 "cells": [
  {
   "cell_type": "markdown",
   "id": "8e7bbdb8",
   "metadata": {},
   "source": [
    "## DESAFIO 32\n",
    "### Faça um programa que leia um ano qualquer e mostre se ele é BISSEXTO.\n"
   ]
  },
  {
   "cell_type": "code",
   "execution_count": 2,
   "id": "81304b69",
   "metadata": {},
   "outputs": [
    {
     "name": "stdout",
     "output_type": "stream",
     "text": [
      "Insira o ano: 1700\n",
      "O ano 1700 não é bissexto\n"
     ]
    }
   ],
   "source": [
    "# Programação que eu fiz\n",
    "ano = int(input('Insira o ano: '))\n",
    "\n",
    "bis =  ano % 400\n",
    "bis1 = ano % 4\n",
    "bis2 = ano % 100\n",
    "\n",
    "if bis == 0:\n",
    "    print(f'O ano {ano} é bissexto')\n",
    "elif (bis1 == 0) and (bis2 != 0):\n",
    "    print(f'O ano {ano} é bissexto')\n",
    "else:\n",
    "    print(f'O ano {ano} não é bissexto')\n"
   ]
  },
  {
   "cell_type": "code",
   "execution_count": 4,
   "id": "40fdbb9e",
   "metadata": {},
   "outputs": [
    {
     "name": "stdout",
     "output_type": "stream",
     "text": [
      "Que ano quer analisar? 0\n",
      "O ano 2021 NÃO É BISSEXTO\n"
     ]
    }
   ],
   "source": [
    "# Programação do Gustavo\n",
    "from datetime import date\n",
    "\n",
    "ano = int(input('Que ano quer analisar? '))\n",
    "\n",
    "if ano == 0:\n",
    "    ano = date.today().year\n",
    "\n",
    "\n",
    "if ano % 4 == 0 and ano % 100 != 0 or ano % 400 == 0:\n",
    "    print('O ano {} é BISSEXTO'.format(ano))\n",
    "else:\n",
    "    print('O ano {} NÃO É BISSEXTO'.format(ano))\n"
   ]
  },
  {
   "cell_type": "code",
   "execution_count": null,
   "id": "28976c4e",
   "metadata": {},
   "outputs": [],
   "source": []
  }
 ],
 "metadata": {
  "kernelspec": {
   "display_name": "Python 3",
   "language": "python",
   "name": "python3"
  },
  "language_info": {
   "codemirror_mode": {
    "name": "ipython",
    "version": 3
   },
   "file_extension": ".py",
   "mimetype": "text/x-python",
   "name": "python",
   "nbconvert_exporter": "python",
   "pygments_lexer": "ipython3",
   "version": "3.8.8"
  }
 },
 "nbformat": 4,
 "nbformat_minor": 5
}
