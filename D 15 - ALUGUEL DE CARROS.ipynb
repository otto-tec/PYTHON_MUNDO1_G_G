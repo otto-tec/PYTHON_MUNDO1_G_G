{
 "cells": [
  {
   "cell_type": "markdown",
   "id": "aa423fa1",
   "metadata": {},
   "source": [
    "## DESAFIO 15\n",
    "### Escreva um programa que pergunte a quantidade de Km percorridos por um carro alugado e a quantidade de dias pelos quais ele foi alugado. Calcule o preço a pagar, sabendo que o carro custa  RS 60 por dia e RS 0.15 por km rodado."
   ]
  },
  {
   "cell_type": "code",
   "execution_count": 3,
   "id": "cef5f18e",
   "metadata": {},
   "outputs": [
    {
     "name": "stdout",
     "output_type": "stream",
     "text": [
      "Qual a quantidade em km rodado?: 15\n",
      "Qual a quantidade em dias que ficou o carro?: 3\n",
      "A quantidade de km rodado foi de 15.0Km e a quantidade de dias foi de 3.0. \n",
      "----------O valor a ser pago é de R$ 182.25----------\n"
     ]
    }
   ],
   "source": [
    "km = float(input('Qual a quantidade em km rodado?: '))\n",
    "dia = float(input('Qual a quantidade em dias que ficou o carro?: '))\n",
    "v_km = km * 0.15\n",
    "v_dia = dia * 60\n",
    "print('''A quantidade de km rodado foi de {}Km e a quantidade de dias foi de {}. \n",
    "----------O valor a ser pago é de R$ {}----------'''.format(km, dia, v_km + v_dia))"
   ]
  },
  {
   "cell_type": "code",
   "execution_count": null,
   "id": "22f5e228",
   "metadata": {},
   "outputs": [],
   "source": []
  }
 ],
 "metadata": {
  "kernelspec": {
   "display_name": "Python 3",
   "language": "python",
   "name": "python3"
  },
  "language_info": {
   "codemirror_mode": {
    "name": "ipython",
    "version": 3
   },
   "file_extension": ".py",
   "mimetype": "text/x-python",
   "name": "python",
   "nbconvert_exporter": "python",
   "pygments_lexer": "ipython3",
   "version": "3.8.8"
  }
 },
 "nbformat": 4,
 "nbformat_minor": 5
}
