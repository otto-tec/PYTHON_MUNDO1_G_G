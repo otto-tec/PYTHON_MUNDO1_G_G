{
 "cells": [
  {
   "cell_type": "markdown",
   "id": "55326e44",
   "metadata": {},
   "source": [
    "## DESAFIO 30\n",
    "### Crie um program que leia um número inteiro e mostre na tela se ele é par ou impar."
   ]
  },
  {
   "cell_type": "code",
   "execution_count": 8,
   "id": "c5842a10",
   "metadata": {},
   "outputs": [
    {
     "name": "stdout",
     "output_type": "stream",
     "text": [
      "Insira um número inteiro: 78\n",
      "O número digitado foi \u001b[7;30m 78 \u001b[m e ele é par\n"
     ]
    }
   ],
   "source": [
    "n = int(input('Insira um número inteiro: '))\n",
    "r = n % 2\n",
    "\n",
    "if r == 1:\n",
    "    print ('O número digitado foi \\033[7;30m {} \\033[m e ele é impar'.format(n))\n",
    "else:\n",
    "    print ('O número digitado foi \\033[7;30m {} \\033[m e ele é par'.format(n))\n"
   ]
  }
 ],
 "metadata": {
  "kernelspec": {
   "display_name": "Python 3",
   "language": "python",
   "name": "python3"
  },
  "language_info": {
   "codemirror_mode": {
    "name": "ipython",
    "version": 3
   },
   "file_extension": ".py",
   "mimetype": "text/x-python",
   "name": "python",
   "nbconvert_exporter": "python",
   "pygments_lexer": "ipython3",
   "version": "3.8.8"
  }
 },
 "nbformat": 4,
 "nbformat_minor": 5
}
