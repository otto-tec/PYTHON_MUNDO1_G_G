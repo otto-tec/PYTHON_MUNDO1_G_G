{
 "cells": [
  {
   "cell_type": "markdown",
   "id": "9a330237",
   "metadata": {},
   "source": [
    "### DESAFIO 29\n",
    "#### Escreva um programa que leia a velocidade de um carro.\n",
    "#### Se ele ultrapassar 80Km/h mostre uma mensagem dizendo que ele foi multado.\n",
    "#### A multa vai custar R$7,00 por cada Km acima do limite."
   ]
  },
  {
   "cell_type": "code",
   "execution_count": 15,
   "id": "21e8cd64",
   "metadata": {},
   "outputs": [
    {
     "name": "stdout",
     "output_type": "stream",
     "text": [
      " Insira a velocidade do veículo em Km/h: 80\n",
      "Você está dentro do limite de velocidade. Boa viajem\n"
     ]
    }
   ],
   "source": [
    "vel = float(input('\\033[7;30m Insira a velocidade do veículo em Km/h: \\033[m'))\n",
    "\n",
    "if vel <= 80:\n",
    "    print('Você está dentro do limite de velocidade. Boa viajem')\n",
    "else:\n",
    "    print('Cuidado. Você ultrapassou o limite em {}Km/h. Será multado no valor de \\033[7;30m R$ {:.2f} !!!\\033[m'.format(vel-80 , (vel-80) * 7))\n",
    "    "
   ]
  },
  {
   "cell_type": "code",
   "execution_count": 14,
   "id": "ae322c20",
   "metadata": {},
   "outputs": [
    {
     "name": "stdout",
     "output_type": "stream",
     "text": [
      "\u001b[7;30m Ola, Mundo!\u001b[m\n"
     ]
    }
   ],
   "source": [
    "# Esse código permite que mudemos a cor da fonte e fundo na mensagem. Existem vários, gostei desse\n",
    "\n",
    "print('\\033[7;30m Ola, Mundo!\\033[m')"
   ]
  },
  {
   "cell_type": "code",
   "execution_count": null,
   "id": "5873b356",
   "metadata": {},
   "outputs": [],
   "source": []
  }
 ],
 "metadata": {
  "kernelspec": {
   "display_name": "Python 3",
   "language": "python",
   "name": "python3"
  },
  "language_info": {
   "codemirror_mode": {
    "name": "ipython",
    "version": 3
   },
   "file_extension": ".py",
   "mimetype": "text/x-python",
   "name": "python",
   "nbconvert_exporter": "python",
   "pygments_lexer": "ipython3",
   "version": "3.8.8"
  }
 },
 "nbformat": 4,
 "nbformat_minor": 5
}
